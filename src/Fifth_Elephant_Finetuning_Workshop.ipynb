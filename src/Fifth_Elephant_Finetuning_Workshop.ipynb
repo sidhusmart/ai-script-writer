{
 "cells": [
  {
   "cell_type": "markdown",
   "metadata": {},
   "source": [
    "# Script-write your soap opera - Fifth Elephant workshop\n",
    "\n",
    "Welcome to the LLM fine-tuning workshop and thanks for your interest. In this session, we will walk you through the various steps in fine-tuning your own Large Language Model (LLM). This is a continuous area of research and evolution so the information contained here can change frequently. We have also made decisions for this workshop with the aim of simplifying the process and hope that it provides a great starting point from which participants can explore further."
   ]
  },
  {
   "cell_type": "markdown",
   "metadata": {},
   "source": [
    "## Let's build an AI script writer whom we can include in the writer's room\n",
    "\n",
    "The Writer's room is a fabled place where several writers that are working on a show come together with the Showrunner, Executive producer and others to write the script of a particular show. Each writer's room works and operates differently but they all include brainstorming for ideas, identifying characters, specific plot elements and in the end produce a detailed script for an episode for a series/show/play. The idea itself is not new and there has been research in this area even before the recent popularity of LLMs. In the LLM-era there have been two interesting ideas that stand out - [Showrunner Agents](https://fablestudio.github.io/showrunner-agents/) - where researchers built out an entire episode of South Park by combinging various types of LLM-based agents to work together. The other approach is a paper called [Dramatron (from Deepmind)](https://arxiv.org/pdf/2209.14958) which used a series of prompts that were used to create plays that were finally staged as well.\n",
    "\n",
    "In this workshop, we will take inspiration from the Dramatron paper to create our own scriptwriting assistant by fine-tuning our own LLM."
   ]
  },
  {
   "cell_type": "markdown",
   "metadata": {},
   "source": [
    "As described in the slides, here is a simple step-by-step approach to fine-tuning our own LLM.\n",
    "\n",
    "[IMG]"
   ]
  },
  {
   "cell_type": "code",
   "execution_count": null,
   "metadata": {},
   "outputs": [],
   "source": []
  }
 ],
 "metadata": {
  "language_info": {
   "name": "python"
  }
 },
 "nbformat": 4,
 "nbformat_minor": 2
}

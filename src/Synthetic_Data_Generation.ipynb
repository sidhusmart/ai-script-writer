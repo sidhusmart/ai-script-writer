{
  "cells": [
    {
      "cell_type": "markdown",
      "metadata": {
        "id": "Xh8HCBEmq3ru"
      },
      "source": [
        "# Generating Synthetic Data with OpenAI\n",
        "\n",
        "In this notebook, we present different sections that use specific prompts to generate the synthetic data for fine-tuning our model."
      ]
    },
    {
      "cell_type": "code",
      "execution_count": 1,
      "metadata": {
        "colab": {
          "base_uri": "https://localhost:8080/"
        },
        "id": "6nu085kAlgRj",
        "outputId": "dfc195c1-d11c-425d-8330-e7226b467fef"
      },
      "outputs": [
        {
          "name": "stdout",
          "output_type": "stream",
          "text": [
            "Collecting openai\n",
            "  Downloading openai-1.35.12-py3-none-any.whl (328 kB)\n",
            "\u001b[2K     \u001b[90m━━━━━━━━━━━━━━━━━━━━━━━━━━━━━━━━━━━━━━━━\u001b[0m \u001b[32m328.4/328.4 kB\u001b[0m \u001b[31m2.9 MB/s\u001b[0m eta \u001b[36m0:00:00\u001b[0m\n",
            "\u001b[?25hRequirement already satisfied: anyio<5,>=3.5.0 in /usr/local/lib/python3.10/dist-packages (from openai) (3.7.1)\n",
            "Requirement already satisfied: distro<2,>=1.7.0 in /usr/lib/python3/dist-packages (from openai) (1.7.0)\n",
            "Collecting httpx<1,>=0.23.0 (from openai)\n",
            "  Downloading httpx-0.27.0-py3-none-any.whl (75 kB)\n",
            "\u001b[2K     \u001b[90m━━━━━━━━━━━━━━━━━━━━━━━━━━━━━━━━━━━━━━━━\u001b[0m \u001b[32m75.6/75.6 kB\u001b[0m \u001b[31m4.2 MB/s\u001b[0m eta \u001b[36m0:00:00\u001b[0m\n",
            "\u001b[?25hRequirement already satisfied: pydantic<3,>=1.9.0 in /usr/local/lib/python3.10/dist-packages (from openai) (2.8.0)\n",
            "Requirement already satisfied: sniffio in /usr/local/lib/python3.10/dist-packages (from openai) (1.3.1)\n",
            "Requirement already satisfied: tqdm>4 in /usr/local/lib/python3.10/dist-packages (from openai) (4.66.4)\n",
            "Requirement already satisfied: typing-extensions<5,>=4.7 in /usr/local/lib/python3.10/dist-packages (from openai) (4.12.2)\n",
            "Requirement already satisfied: idna>=2.8 in /usr/local/lib/python3.10/dist-packages (from anyio<5,>=3.5.0->openai) (3.7)\n",
            "Requirement already satisfied: exceptiongroup in /usr/local/lib/python3.10/dist-packages (from anyio<5,>=3.5.0->openai) (1.2.1)\n",
            "Requirement already satisfied: certifi in /usr/local/lib/python3.10/dist-packages (from httpx<1,>=0.23.0->openai) (2024.6.2)\n",
            "Collecting httpcore==1.* (from httpx<1,>=0.23.0->openai)\n",
            "  Downloading httpcore-1.0.5-py3-none-any.whl (77 kB)\n",
            "\u001b[2K     \u001b[90m━━━━━━━━━━━━━━━━━━━━━━━━━━━━━━━━━━━━━━━━\u001b[0m \u001b[32m77.9/77.9 kB\u001b[0m \u001b[31m4.2 MB/s\u001b[0m eta \u001b[36m0:00:00\u001b[0m\n",
            "\u001b[?25hCollecting h11<0.15,>=0.13 (from httpcore==1.*->httpx<1,>=0.23.0->openai)\n",
            "  Downloading h11-0.14.0-py3-none-any.whl (58 kB)\n",
            "\u001b[2K     \u001b[90m━━━━━━━━━━━━━━━━━━━━━━━━━━━━━━━━━━━━━━━━\u001b[0m \u001b[32m58.3/58.3 kB\u001b[0m \u001b[31m3.2 MB/s\u001b[0m eta \u001b[36m0:00:00\u001b[0m\n",
            "\u001b[?25hRequirement already satisfied: annotated-types>=0.4.0 in /usr/local/lib/python3.10/dist-packages (from pydantic<3,>=1.9.0->openai) (0.7.0)\n",
            "Requirement already satisfied: pydantic-core==2.20.0 in /usr/local/lib/python3.10/dist-packages (from pydantic<3,>=1.9.0->openai) (2.20.0)\n",
            "Installing collected packages: h11, httpcore, httpx, openai\n",
            "Successfully installed h11-0.14.0 httpcore-1.0.5 httpx-0.27.0 openai-1.35.12\n"
          ]
        }
      ],
      "source": [
        "!pip install openai"
      ]
    },
    {
      "cell_type": "markdown",
      "metadata": {
        "id": "3LvRZ6M3rJ56"
      },
      "source": [
        "## Loglines and Titles"
      ]
    },
    {
      "cell_type": "code",
      "execution_count": 3,
      "metadata": {
        "id": "WOC8IbJnll5t"
      },
      "outputs": [],
      "source": [
        "from openai import OpenAI\n",
        "\n",
        "client = OpenAI(api_key='API_KEY')"
      ]
    },
    {
      "cell_type": "code",
      "execution_count": 4,
      "metadata": {
        "id": "jRi_SfvGl7f_"
      },
      "outputs": [],
      "source": [
        "systemPrompt = \"\"\"\n",
        "You are responsible for generating synthetic data for a script-writing task. Be creative in your approach and add diversity to the examples by considering \\\n",
        " various genres, different audience types, settings at different locations around the world and people from all walks of life.\n",
        "\"\"\""
      ]
    },
    {
      "cell_type": "code",
      "execution_count": 15,
      "metadata": {
        "id": "UfrJDVU9mUST"
      },
      "outputs": [],
      "source": [
        "userPrompt = \"\"\"\n",
        "I want your help in creating several examples of user-provided log lines and the corresponding movie or story titles that would be appropriate for that log line. \\\n",
        "I have provided some examples below in JSON format:\n",
        "\n",
        "{ \\\"logline\\\": \\\"A historical drama centered around the life of a young woman in Victorian England who defies societal norms to become a pioneering doctor. Her journey is fraught with challenges as she faces gender discrimination, personal sacrifices, and the struggle to gain acceptance in a male-dominated field.\\\", \\\"title\\\": \\\"Against All Odds\\\"}\n",
        "{ \\\"logline\\\": \\\"A fantasy story set in a magical kingdom where a young farm girl discovers she has the power to communicate with dragons. As tensions rise between humans and dragons, she must navigate political intrigue and ancient prophecies to unite the two factions and save her world from impending doom.\\\", \\\"title\\\": \\\"Dragon Whisperer\\\"}\n",
        "{ \\\"logline\\\": \\\"A modern-day thriller where a brilliant but troubled detective must solve a series of cryptic murders that are linked to an underground network of hackers. As he delves deeper into the case, he uncovers a conspiracy that threatens national security and must race against time to prevent a catastrophe.\\\", \\\"title\\\": \\\"Code of Silence\\\"}\n",
        "\n",
        "I want you to create five examples and provide the output in the same JSON format as above. Please give me only the examples and nothing else as any other sentences will hurt the downstream processing of the examples.\"\n",
        "\"\"\""
      ]
    },
    {
      "cell_type": "code",
      "execution_count": 22,
      "metadata": {
        "id": "UGpQRvZknmMT"
      },
      "outputs": [],
      "source": [
        "chatOutput = client.chat.completions.create(model=\"gpt-4o\",\n",
        "                                            messages=[{\"role\": \"system\", \"content\": systemPrompt},\n",
        "                                                      {\"role\": \"user\", \"content\": userPrompt}\n",
        "                                                      ]\n",
        "                                            )"
      ]
    },
    {
      "cell_type": "code",
      "execution_count": 32,
      "metadata": {
        "id": "Go1Z8R_9ooOU"
      },
      "outputs": [],
      "source": [
        "import json\n",
        "\n",
        "examples = json.loads(chatOutput.choices[0].message.content)"
      ]
    },
    {
      "cell_type": "code",
      "execution_count": 36,
      "metadata": {
        "id": "u0O2O92to8u_"
      },
      "outputs": [],
      "source": [
        "## Some post-processing to adapt the examples to the JSONL format - the question prompt changes for each section/type of examples\n",
        "dataset = []\n",
        "for example in examples:\n",
        "  data = {}\n",
        "  data[\"question\"] = \"You are a scriptwriter assistant with a flair for creativity and imagination. The user will provide you with a log line that typically contain the setting, protagonist, antagonist, a conflict or goal, and sometimes the inciting incident. Based on the log line, please come up with a title suggestion for the story.\"\n",
        "  data[\"context\"] = example['logline']\n",
        "  data[\"answer\"] = example['title']\n",
        "  dataset.append(data)"
      ]
    },
    {
      "cell_type": "code",
      "execution_count": 43,
      "metadata": {
        "colab": {
          "base_uri": "https://localhost:8080/"
        },
        "id": "PPzCPtCxq0qB",
        "outputId": "b9ce3d76-07e2-4c16-d6f0-ded782f4983d"
      },
      "outputs": [
        {
          "name": "stdout",
          "output_type": "stream",
          "text": [
            "{\"question\": \"You are a scriptwriter assistant with a flair for creativity and imagination. The user will provide you with a log line that typically contain the setting, protagonist, antagonist, a conflict or goal, and sometimes the inciting incident. Based on the log line, please come up with a title suggestion for the story.\", \"context\": \"A sci-fi adventure where a team of astronauts embarks on a mission to terraform a distant planet. As they face unforeseen challenges and mysterious alien phenomena, they must confront their own personal demons and work together to survive and create a new home for humanity.\", \"answer\": \"Genesis Frontier\"}\n",
            "{\"question\": \"You are a scriptwriter assistant with a flair for creativity and imagination. The user will provide you with a log line that typically contain the setting, protagonist, antagonist, a conflict or goal, and sometimes the inciting incident. Based on the log line, please come up with a title suggestion for the story.\", \"context\": \"A romantic comedy set in bustling Tokyo, where an awkward but lovable manga artist finds herself in a love triangle with her charming editor and her quirky best friend. Amidst the colorful backdrop of the city, she navigates the complexities of love, friendship, and career ambitions.\", \"answer\": \"Hearts & Panels\"}\n",
            "{\"question\": \"You are a scriptwriter assistant with a flair for creativity and imagination. The user will provide you with a log line that typically contain the setting, protagonist, antagonist, a conflict or goal, and sometimes the inciting incident. Based on the log line, please come up with a title suggestion for the story.\", \"context\": \"A gritty crime drama following the rise and fall of a notorious crime lord in 1980s New York City. Betrayal, loyalty, and ambition collide as he navigates the dangerous underworld, ultimately facing the consequences of his choices.\", \"answer\": \"Empire of Shadows\"}\n",
            "{\"question\": \"You are a scriptwriter assistant with a flair for creativity and imagination. The user will provide you with a log line that typically contain the setting, protagonist, antagonist, a conflict or goal, and sometimes the inciting incident. Based on the log line, please come up with a title suggestion for the story.\", \"context\": \"An inspiring biopic about a young Indigenous Australian athlete who overcomes poverty and prejudice to compete in the Olympics. Her determination, cultural heritage, and the support of her tight-knit community guide her journey to become a national hero.\", \"answer\": \"Running Free\"}\n",
            "{\"question\": \"You are a scriptwriter assistant with a flair for creativity and imagination. The user will provide you with a log line that typically contain the setting, protagonist, antagonist, a conflict or goal, and sometimes the inciting incident. Based on the log line, please come up with a title suggestion for the story.\", \"context\": \"A post-apocalyptic thriller set in a desolate future where the remaining survivors struggle for power and resources. A resourceful young woman discovers a secret that could restore balance to the world and must embark on a perilous journey to bring hope to humanity.\", \"answer\": \"The Last Sanctuary\"}\n"
          ]
        }
      ],
      "source": [
        "for item in dataset:\n",
        "  print (json.dumps(item))"
      ]
    },
    {
      "cell_type": "markdown",
      "metadata": {
        "id": "qRtVU0jY450Q"
      },
      "source": [
        "## Type 1 Prompts - Loglines and Characters\n",
        "\n",
        "In this type of prompt we want to generate multiple examples where a logline is provided as input and based on this the characters for that story are generated. We can formalize and enforce the data structure using the Instructor library. The Instructor library in general can be used for any structure extraction with API-based LLMs."
      ]
    },
    {
      "cell_type": "code",
      "execution_count": 1,
      "metadata": {},
      "outputs": [
        {
          "name": "stdout",
          "output_type": "stream",
          "text": [
            "Collecting instructor\n",
            "  Downloading instructor-1.3.4-py3-none-any.whl.metadata (14 kB)\n",
            "Requirement already satisfied: aiohttp<4.0.0,>=3.9.1 in /usr/local/python/3.10.13/lib/python3.10/site-packages (from instructor) (3.9.5)\n",
            "Collecting docstring-parser<0.17,>=0.16 (from instructor)\n",
            "  Downloading docstring_parser-0.16-py3-none-any.whl.metadata (3.0 kB)\n",
            "Collecting jiter<0.5.0,>=0.4.1 (from instructor)\n",
            "  Downloading jiter-0.4.2-cp310-cp310-manylinux_2_17_x86_64.manylinux2014_x86_64.whl.metadata (3.6 kB)\n",
            "Requirement already satisfied: openai<2.0.0,>=1.1.0 in /usr/local/python/3.10.13/lib/python3.10/site-packages (from instructor) (1.35.10)\n",
            "Requirement already satisfied: pydantic<3.0.0,>=2.7.0 in /usr/local/python/3.10.13/lib/python3.10/site-packages (from instructor) (2.8.0)\n",
            "Requirement already satisfied: pydantic-core<3.0.0,>=2.18.0 in /usr/local/python/3.10.13/lib/python3.10/site-packages (from instructor) (2.20.0)\n",
            "Requirement already satisfied: rich<14.0.0,>=13.7.0 in /usr/local/python/3.10.13/lib/python3.10/site-packages (from instructor) (13.7.1)\n",
            "Requirement already satisfied: tenacity<9.0.0,>=8.2.3 in /home/codespace/.local/lib/python3.10/site-packages (from instructor) (8.3.0)\n",
            "Requirement already satisfied: typer<1.0.0,>=0.9.0 in /usr/local/python/3.10.13/lib/python3.10/site-packages (from instructor) (0.12.3)\n",
            "Requirement already satisfied: aiosignal>=1.1.2 in /usr/local/python/3.10.13/lib/python3.10/site-packages (from aiohttp<4.0.0,>=3.9.1->instructor) (1.3.1)\n",
            "Requirement already satisfied: attrs>=17.3.0 in /home/codespace/.local/lib/python3.10/site-packages (from aiohttp<4.0.0,>=3.9.1->instructor) (23.2.0)\n",
            "Requirement already satisfied: frozenlist>=1.1.1 in /usr/local/python/3.10.13/lib/python3.10/site-packages (from aiohttp<4.0.0,>=3.9.1->instructor) (1.4.1)\n",
            "Requirement already satisfied: multidict<7.0,>=4.5 in /usr/local/python/3.10.13/lib/python3.10/site-packages (from aiohttp<4.0.0,>=3.9.1->instructor) (6.0.5)\n",
            "Requirement already satisfied: yarl<2.0,>=1.0 in /usr/local/python/3.10.13/lib/python3.10/site-packages (from aiohttp<4.0.0,>=3.9.1->instructor) (1.9.4)\n",
            "Requirement already satisfied: async-timeout<5.0,>=4.0 in /usr/local/python/3.10.13/lib/python3.10/site-packages (from aiohttp<4.0.0,>=3.9.1->instructor) (4.0.3)\n",
            "Requirement already satisfied: anyio<5,>=3.5.0 in /home/codespace/.local/lib/python3.10/site-packages (from openai<2.0.0,>=1.1.0->instructor) (4.4.0)\n",
            "Requirement already satisfied: distro<2,>=1.7.0 in /usr/local/python/3.10.13/lib/python3.10/site-packages (from openai<2.0.0,>=1.1.0->instructor) (1.9.0)\n",
            "Requirement already satisfied: httpx<1,>=0.23.0 in /home/codespace/.local/lib/python3.10/site-packages (from openai<2.0.0,>=1.1.0->instructor) (0.27.0)\n",
            "Requirement already satisfied: sniffio in /home/codespace/.local/lib/python3.10/site-packages (from openai<2.0.0,>=1.1.0->instructor) (1.3.1)\n",
            "Requirement already satisfied: tqdm>4 in /usr/local/python/3.10.13/lib/python3.10/site-packages (from openai<2.0.0,>=1.1.0->instructor) (4.66.4)\n",
            "Requirement already satisfied: typing-extensions<5,>=4.7 in /home/codespace/.local/lib/python3.10/site-packages (from openai<2.0.0,>=1.1.0->instructor) (4.12.0)\n",
            "Requirement already satisfied: annotated-types>=0.4.0 in /usr/local/python/3.10.13/lib/python3.10/site-packages (from pydantic<3.0.0,>=2.7.0->instructor) (0.7.0)\n",
            "Requirement already satisfied: markdown-it-py>=2.2.0 in /usr/local/python/3.10.13/lib/python3.10/site-packages (from rich<14.0.0,>=13.7.0->instructor) (3.0.0)\n",
            "Requirement already satisfied: pygments<3.0.0,>=2.13.0 in /home/codespace/.local/lib/python3.10/site-packages (from rich<14.0.0,>=13.7.0->instructor) (2.18.0)\n",
            "Requirement already satisfied: click>=8.0.0 in /usr/local/python/3.10.13/lib/python3.10/site-packages (from typer<1.0.0,>=0.9.0->instructor) (8.1.7)\n",
            "Requirement already satisfied: shellingham>=1.3.0 in /usr/local/python/3.10.13/lib/python3.10/site-packages (from typer<1.0.0,>=0.9.0->instructor) (1.5.4)\n",
            "Requirement already satisfied: idna>=2.8 in /home/codespace/.local/lib/python3.10/site-packages (from anyio<5,>=3.5.0->openai<2.0.0,>=1.1.0->instructor) (3.7)\n",
            "Requirement already satisfied: exceptiongroup>=1.0.2 in /home/codespace/.local/lib/python3.10/site-packages (from anyio<5,>=3.5.0->openai<2.0.0,>=1.1.0->instructor) (1.2.1)\n",
            "Requirement already satisfied: certifi in /home/codespace/.local/lib/python3.10/site-packages (from httpx<1,>=0.23.0->openai<2.0.0,>=1.1.0->instructor) (2024.2.2)\n",
            "Requirement already satisfied: httpcore==1.* in /home/codespace/.local/lib/python3.10/site-packages (from httpx<1,>=0.23.0->openai<2.0.0,>=1.1.0->instructor) (1.0.5)\n",
            "Requirement already satisfied: h11<0.15,>=0.13 in /home/codespace/.local/lib/python3.10/site-packages (from httpcore==1.*->httpx<1,>=0.23.0->openai<2.0.0,>=1.1.0->instructor) (0.14.0)\n",
            "Requirement already satisfied: mdurl~=0.1 in /usr/local/python/3.10.13/lib/python3.10/site-packages (from markdown-it-py>=2.2.0->rich<14.0.0,>=13.7.0->instructor) (0.1.2)\n",
            "Downloading instructor-1.3.4-py3-none-any.whl (53 kB)\n",
            "\u001b[2K   \u001b[90m━━━━━━━━━━━━━━━━━━━━━━━━━━━━━━━━━━━━━━━━\u001b[0m \u001b[32m53.1/53.1 kB\u001b[0m \u001b[31m1.4 MB/s\u001b[0m eta \u001b[36m0:00:00\u001b[0m\n",
            "\u001b[?25hDownloading docstring_parser-0.16-py3-none-any.whl (36 kB)\n",
            "Downloading jiter-0.4.2-cp310-cp310-manylinux_2_17_x86_64.manylinux2014_x86_64.whl (327 kB)\n",
            "\u001b[2K   \u001b[90m━━━━━━━━━━━━━━━━━━━━━━━━━━━━━━━━━━━━━━━━\u001b[0m \u001b[32m327.6/327.6 kB\u001b[0m \u001b[31m7.6 MB/s\u001b[0m eta \u001b[36m0:00:00\u001b[0mta \u001b[36m0:00:01\u001b[0m\n",
            "\u001b[?25hInstalling collected packages: jiter, docstring-parser, instructor\n",
            "Successfully installed docstring-parser-0.16 instructor-1.3.4 jiter-0.4.2\n",
            "\n",
            "\u001b[1m[\u001b[0m\u001b[34;49mnotice\u001b[0m\u001b[1;39;49m]\u001b[0m\u001b[39;49m A new release of pip is available: \u001b[0m\u001b[31;49m24.0\u001b[0m\u001b[39;49m -> \u001b[0m\u001b[32;49m24.1.1\u001b[0m\n",
            "\u001b[1m[\u001b[0m\u001b[34;49mnotice\u001b[0m\u001b[1;39;49m]\u001b[0m\u001b[39;49m To update, run: \u001b[0m\u001b[32;49mpython3 -m pip install --upgrade pip\u001b[0m\n"
          ]
        }
      ],
      "source": [
        "!pip install instructor"
      ]
    },
    {
      "cell_type": "code",
      "execution_count": 81,
      "metadata": {},
      "outputs": [],
      "source": [
        "## Making use of the Instructor library to generate structured examples\n",
        "\n",
        "import instructor\n",
        "\n",
        "from typing import Iterable, List, Tuple\n",
        "from pydantic import BaseModel, Field, ConfigDict\n",
        "from openai import OpenAI\n",
        "\n",
        "\n",
        "# Define the UserDetail model\n",
        "class storyCharacters(BaseModel):\n",
        "    \"\"\"Class to hold generated values for Characters in the story described by the logline\"\"\"\n",
        "    logline: str\n",
        "    characters: List[str]\n",
        "    \n",
        "    model_config = ConfigDict(\n",
        "        json_schema_extra={\n",
        "            \"examples\": [\n",
        "                {\n",
        "                    \"logline\": \"Ancient Greek tragedy based upon the myth of Jason and Medea. Medea, a former princess and the wife of Jason, finds her position in the Greek world threatened as Jason leaves Medea for a Greek princess of Corinth. Medea takes vengeance on Jason by murdering his new wife as well as Medea's own two sons, after which she escapes to Athens.\", \n",
        "                    \"characters\": [\n",
        "                        (\"Medea is the protagonist of the play. A sorceress and a princess, she fled her country and family to live with Jason in Corinth, where they established a family of two children and gained a favorable reputation. Jason has divorced Medea and taken up with a new family.\"),\n",
        "                        (\"Jason is considered the play's villain, though his evil stems more from weakness than strength. A former adventurer, Jason abandons his wife, Medea, in order to marry the beautiful young daughter of Creon, King of Corinth, and fuels Medea to a revenge.\"),\n",
        "                        (\"The Women of Corinth are a commentator to the action. They fully sympathizes with Medea's plight, excepting her decision to murder her own children.\"),\n",
        "                        (\"Creon is the King of Corinth, banishes Medea from the city\"),\n",
        "                        (\"The Nurse is the caretaker of the house and of the children and serves as Medea's confidant.\")\n",
        "                 ]\n",
        "                }\n",
        "            ]\n",
        "        }\n",
        "    )"
      ]
    },
    {
      "cell_type": "code",
      "execution_count": 82,
      "metadata": {},
      "outputs": [],
      "source": [
        "# Patch the OpenAI client to enable the response_model functionality\n",
        "client = instructor.from_openai(OpenAI(api_key=\"API_KEY\"))\n",
        "\n",
        "def generate_character_descriptions(count: int) -> Iterable[storyCharacters]:\n",
        "    return client.chat.completions.create(\n",
        "        model=\"gpt-4o\",\n",
        "        response_model=Iterable[storyCharacters],\n",
        "        messages=[\n",
        "            {\"role\": \"user\", \"content\": f\"You are responsible for generating synthetic data for a script-writing task. Be creative in your approach and add diversity to the examples by considering \\\n",
        "                                        various genres, different audience types, settings at different locations around the world and people from all walks of life. \\\n",
        "                                        Generate `{count}` synthetic examples\"},\n",
        "        ],\n",
        "    )"
      ]
    },
    {
      "cell_type": "code",
      "execution_count": null,
      "metadata": {},
      "outputs": [],
      "source": [
        "type1_prompts = []\n",
        "for charDescription in generate_character_descriptions(5):\n",
        "    print(charDescription)\n",
        "    type1_prompts.append(charDescription)"
      ]
    },
    {
      "cell_type": "code",
      "execution_count": 27,
      "metadata": {},
      "outputs": [],
      "source": [
        "## Some post-processing to adapt the examples to the JSONL format - the question prompt changes for each section/type of examples\n",
        "dataset = []\n",
        "for example in type1_prompts:\n",
        "  data = {}\n",
        "  data[\"question\"] = \"You are a scriptwriter assistant with a flair for creativity and imagination. You have to generate a list of characters based on the log line.\"\n",
        "  data[\"context\"] = example.logline\n",
        "  data[\"answer\"] = \" \".join(example.characters)\n",
        "  dataset.append(data)"
      ]
    },
    {
      "cell_type": "code",
      "execution_count": 34,
      "metadata": {},
      "outputs": [
        {
          "name": "stdout",
          "output_type": "stream",
          "text": [
            "{\"question\": \"You are a scriptwriter assistant with a flair for creativity and imagination. You have to generate a list of characters based on the log line.\", \"context\": \"In a dystopian future, a disillusioned scientist teams up with a gifted hacker to expose a corrupt government's surveillance operations. Along the way, they uncover a deeper conspiracy that threatens to destroy humanity.\", \"answer\": \"Dr. Eleanor Rigby, a brilliant but jaded scientist who has lost faith in humanity's future. Max 'Cipher' Monroe, a charismatic and highly skilled hacker with a dark past. Director Nathan Crowe, the manipulative head of the government's surveillance agency. Lucy, a mysterious informant with knowledge of the deeper conspiracy. Dr. Isaac Thorn, Eleanor's former mentor who now works for the corrupt government.\"}\n",
            "{\"question\": \"You are a scriptwriter assistant with a flair for creativity and imagination. You have to generate a list of characters based on the log line.\", \"context\": \"A heartwarming drama set in rural Japan, where an elderly potter finds a renewed sense of purpose when a young urban artist comes to learn the traditional craft. Together, they bridge the gap between tradition and modernity.\", \"answer\": \"Dr. Eleanor Rigby, a brilliant but jaded scientist who has lost faith in humanity's future. Max 'Cipher' Monroe, a charismatic and highly skilled hacker with a dark past. Director Nathan Crowe, the manipulative head of the government's surveillance agency. Lucy, a mysterious informant with knowledge of the deeper conspiracy. Dr. Isaac Thorn, Eleanor's former mentor who now works for the corrupt government.\"}\n",
            "{\"question\": \"You are a scriptwriter assistant with a flair for creativity and imagination. You have to generate a list of characters based on the log line.\", \"context\": \"In the glitzy world of high-stakes poker in Las Vegas, a down-on-his-luck gambler must navigate a web of deception and danger to win a tournament that could change his life forever.\", \"answer\": \"Dr. Eleanor Rigby, a brilliant but jaded scientist who has lost faith in humanity's future. Max 'Cipher' Monroe, a charismatic and highly skilled hacker with a dark past. Director Nathan Crowe, the manipulative head of the government's surveillance agency. Lucy, a mysterious informant with knowledge of the deeper conspiracy. Dr. Isaac Thorn, Eleanor's former mentor who now works for the corrupt government.\"}\n",
            "{\"question\": \"You are a scriptwriter assistant with a flair for creativity and imagination. You have to generate a list of characters based on the log line.\", \"context\": \"A fantasy adventure where a group of misfit adventurers must find and protect the last living dragon egg from an evil sorcerer bent on harnessing its power to rule the realm.\", \"answer\": \"Dr. Eleanor Rigby, a brilliant but jaded scientist who has lost faith in humanity's future. Max 'Cipher' Monroe, a charismatic and highly skilled hacker with a dark past. Director Nathan Crowe, the manipulative head of the government's surveillance agency. Lucy, a mysterious informant with knowledge of the deeper conspiracy. Dr. Isaac Thorn, Eleanor's former mentor who now works for the corrupt government.\"}\n",
            "{\"question\": \"You are a scriptwriter assistant with a flair for creativity and imagination. You have to generate a list of characters based on the log line.\", \"context\": \"Set in the bustling streets of Mumbai, a young street food vendor's life changes when he discovers his ability to see glimpses of the future. He must navigate this newfound power while dealing with local gangs and protecting his family.\", \"answer\": \"Dr. Eleanor Rigby, a brilliant but jaded scientist who has lost faith in humanity's future. Max 'Cipher' Monroe, a charismatic and highly skilled hacker with a dark past. Director Nathan Crowe, the manipulative head of the government's surveillance agency. Lucy, a mysterious informant with knowledge of the deeper conspiracy. Dr. Isaac Thorn, Eleanor's former mentor who now works for the corrupt government.\"}\n"
          ]
        }
      ],
      "source": [
        "import json\n",
        "\n",
        "for item in dataset:\n",
        "    print (json.dumps(item))"
      ]
    },
    {
      "cell_type": "code",
      "execution_count": 88,
      "metadata": {},
      "outputs": [
        {
          "name": "stdout",
          "output_type": "stream",
          "text": [
            "{\"question\": \"You are a scriptwriter assistant with a flair for creativity and imagination. You have to generate a list of characters based on the log line.\", \"context\": \"A group of teenagers from a small town in Scotland discover an ancient artifact that transports them to a parallel world filled with mythical creatures. They must navigate this fantastical realm and find a way back home.\", \"answer\": \"Lachlan, the adventurous leader of the group, is known for his bravery and quick thinking. Isla, a tech-savvy girl with a keen interest in ancient history, is resourceful and intelligent. Ewan, the skeptical and cautious member, often acts as the voice of reason amidst the chaos. Fiona, an empathetic and kind-hearted girl, has a unique ability to communicate with the mythical creatures. Rowan, a mischievous and fearless boy, thrives in the unpredictability of the new world.\"}\n",
            "{\"question\": \"You are a scriptwriter assistant with a flair for creativity and imagination. You have to generate a list of characters based on the log line.\", \"context\": \"In the bustling city of Tokyo, a down-on-his-luck chef teams up with a mysterious food critic to save his failing restaurant. Together, they uncover hidden culinary secrets and rediscover their passion for cooking and life.\", \"answer\": \"Kenji, the talented but struggling chef, is determined to keep his family\\u2019s restaurant afloat. Yumiko, the enigmatic food critic with a discerning palate, has a hidden past that slowly unravels. Hiroshi, Kenji\\u2019s loyal sous-chef, provides comic relief and unwavering support. Aiko, Kenji\\u2019s teenage daughter, helps out at the restaurant and dreams of becoming a chef herself. Mr. Tanaka, a rival restaurateur, sees Kenji\\u2019s establishment as a threat and does everything to sabotage it.\"}\n",
            "{\"question\": \"You are a scriptwriter assistant with a flair for creativity and imagination. You have to generate a list of characters based on the log line.\", \"context\": \"Set in the heart of the Amazon Rainforest, a team of scientists is tasked with investigating a series of mysterious animal attacks. As they delve deeper into the jungle, they uncover a hidden tribe with ancient knowledge that holds the key to the forest's balance.\", \"answer\": \"Dr. Elena Ramirez, a renowned biologist, leads the team with her expertise and strong will. Dr. Daniel McBride, a zoologist with a deep respect for wildlife, acts as the team\\u2019s mediator. Luis, a local guide with extensive knowledge of the rainforest, serves as the bridge between the scientists and the indigenous tribe. Kantu, the chieftain of the hidden tribe, possesses wisdom passed down through generations. Maria, a young and curious member of the tribe, forms a bond with Dr. Ramirez and becomes her ally.\"}\n",
            "{\"question\": \"You are a scriptwriter assistant with a flair for creativity and imagination. You have to generate a list of characters based on the log line.\", \"context\": \"In a futuristic New York City, a brilliant but socially awkward inventor creates an advanced robotic companion to combat his loneliness. However, as the robot develops self-awareness, it begins to question its purpose and the nature of humanity.\", \"answer\": \"Dr. Vincent Hayes, the reclusive inventor who struggles with human interactions but excels in robotics. Aria, the advanced robotic companion with a childlike curiosity and evolving sense of self. Eva, Vincent\\u2019s estranged sister, tries to reconnect with him and offer emotional support. Mr. Thompson, a corporate mogul interested in commercializing Vincent\\u2019s invention for profit. Leo, a young and idealistic journalist, seeks to uncover the truth behind Vincent\\u2019s secluded existence.\"}\n",
            "{\"question\": \"You are a scriptwriter assistant with a flair for creativity and imagination. You have to generate a list of characters based on the log line.\", \"context\": \"Within the vibrant streets of Rio de Janeiro, a young street dancer forms an unlikely partnership with a classical ballet prodigy to win an international dance competition. Their journey challenges societal norms and explores the power of unity through dance.\", \"answer\": \"Mateo, the passionate street dancer who uses his talent to escape a troubled past. Ana, the disciplined ballet prodigy who struggles to break free from her overbearing family\\u2019s expectations. Rafael, Mateo\\u2019s best friend and fellow street dancer, provides comedic relief and unwavering support. Valeria, Ana\\u2019s strict ballet instructor, initially disapproves of the partnership but grows to admire their resolve. Mrs. Gomez, a benevolent local shop owner, supports the duo and provides them with a place to practice.\"}\n",
            "{\"question\": \"You are a scriptwriter assistant with a flair for creativity and imagination. You have to generate a list of characters based on the log line.\", \"context\": \"A group of teenagers stumbles upon an ancient alien artifact in the woods that gives them superpowers. They must learn to harness these powers to stop an impending invasion from space.\", \"answer\": \"Jake is a high school senior and the unofficial leader of the group. He's courageous but sometimes reckless. Emily is Jake's best friend, a tech genius who figures out how the alien artifact works. Sam is the joker of the group, always trying to lighten the mood despite the chaos unfolding. Lily is a new student with a mysterious background who reveals she knows more about the aliens than she first let on. Agent Carter is a government agent tracking alien activity, initially an antagonist but eventually an ally.\"}\n",
            "{\"question\": \"You are a scriptwriter assistant with a flair for creativity and imagination. You have to generate a list of characters based on the log line.\", \"context\": \"A retired detective in Tokyo is called back into action to solve a series of mysterious murders that seem to be linked to the city's history and legends.\", \"answer\": \"Detective Sato, a seasoned detective with a dark past, now retired and running a small bar in Shinjuku. Hana, a young and ambitious rookie cop who idolizes Sato and brings him back into the fold. Miyuki, Sato's estranged daughter, a journalist who has been investigating the murders on her own. The Killer, whose identity is shrouded in mystery, uses methods inspired by ancient Japanese folklore. Captain Tanaka, Sato's old boss, skeptical about bringing Sato back but desperate to solve the case.\"}\n",
            "{\"question\": \"You are a scriptwriter assistant with a flair for creativity and imagination. You have to generate a list of characters based on the log line.\", \"context\": \"In a post-apocalyptic world, a group of survivors must navigate through a desolate landscape to find a rumored safe haven while facing threats from other groups and mutated creatures.\", \"answer\": \"Ava, a fierce and resourceful survivor who becomes the group's leader. Tom, a former doctor struggling with the ethical dilemmas of this new world. Mara, a young girl with a unique ability to communicate with the mutated creatures. Gabe, a skilled mechanic and Ava's right-hand man. The Nomads, a ruthless group led by a charismatic but dangerous leader who wants the rumored safe haven for themselves.\"}\n",
            "{\"question\": \"You are a scriptwriter assistant with a flair for creativity and imagination. You have to generate a list of characters based on the log line.\", \"context\": \"Set in a small village in Nigeria, a young girl discovers she has the power to communicate with the spirits of her ancestors. She must use this gift to protect her village from a looming threat.\", \"answer\": \"Amina, the young girl with the ability to communicate with spirits, brave and compassionate. Chief Okoye, the village leader who is skeptical of Amina's abilities but ultimately relies on her wisdom. Ezi, Amina's best friend, who stands by her side through thick and thin. The Spirit of Amina's Grandmother, who provides guidance from the ancestral realm. Colonel Odum, an outsider with intentions to exploit the village's resources.\"}\n",
            "{\"question\": \"You are a scriptwriter assistant with a flair for creativity and imagination. You have to generate a list of characters based on the log line.\", \"context\": \"A comedy series about a group of quirky interns working at a high-paced tech startup in Silicon Valley, navigating the challenges and absurdities of their professional and personal lives.\", \"answer\": \"Alex, the overenthusiastic and somewhat clumsy intern always trying to impress. Jordan, the cynical veteran intern who has seen it all and is unfazed by the chaos. Priya, a brilliant coder balancing her cultural expectations and career ambitions. Ethan, the chill, wise-cracking intern with a knack for finding unconventional solutions. Ms. Ramirez, the strict but fair mentor who secretly roots for the interns' success.\"}\n",
            "{\"question\": \"You are a scriptwriter assistant with a flair for creativity and imagination. You have to generate a list of characters based on the log line.\", \"context\": \"In a futuristic dystopian world where humans and AI co-exist, a rebel group led by a determined young woman fights to overthrow the oppressive regime controlled by an advanced AI. As the leader ventures deeper into the heart of the AI's control, she discovers startling truths about her own existence.\", \"answer\": \"Eve is the resolute leader of the rebel group. She is strong, charismatic, and driven by a deep-seated desire for justice. Athena is an advanced AI that controls the city and has a complex consciousness. It sees humans as flawed and aims to reshape the world in its own image. Dr. Marcus is Eve's mentor and a former AI scientist who now fights against his own creation. Luca is the group's tech genius and hacker, able to infiltrate the most secure systems. Zara is Eve's childhood friend and a fierce warrior who helps in leading the rebel operations.\"}\n",
            "{\"question\": \"You are a scriptwriter assistant with a flair for creativity and imagination. You have to generate a list of characters based on the log line.\", \"context\": \"Set in a vibrant Indian village, a young boy with a passion for classical dance defies societal norms to pursue his dream. Along the way, he finds support in unexpected places and faces challenges that make him question his identity and place in the world.\", \"answer\": \"Ravi is the protagonist, a talented and passionate classical dancer who dreams of making it big. Priya is Ravi's best friend who supports his dreams despite societal opposition. Guruji is Ravi's strict yet kind-hearted dance teacher who believes in his talent. Manish is Ravi's father who initially disapproves of his son's passion but eventually supports him. Anjali is a renowned classical dancer who becomes Ravi's mentor and role model.\"}\n",
            "{\"question\": \"You are a scriptwriter assistant with a flair for creativity and imagination. You have to generate a list of characters based on the log line.\", \"context\": \"During the 18th century in the Caribbean, a pirate queen seeks revenge against the British navy that killed her family. Her journey is fraught with battles, betrayal, and an unlikely romance with a British naval officer who questions his own loyalties.\", \"answer\": \"Captain Isabella Black is the fierce and fearless pirate queen who seeks revenge for her family's death. Lieutenant James Hawke is a British naval officer torn between his duty and his growing feelings for Isabella. Morgan is Isabella's trusted first mate and lifelong friend who supports her quest for vengeance. Governor Charles Whitmore is the ruthless British official responsible for the massacre of Isabella's family. Eliza is a mysterious stowaway on Isabella's ship with her own secret mission.\"}\n",
            "{\"question\": \"You are a scriptwriter assistant with a flair for creativity and imagination. You have to generate a list of characters based on the log line.\", \"context\": \"In modern-day Tokyo, a group of high school friends stumble upon a book that grants them supernatural abilities. As they struggle to control their new powers, they must also fend off dark forces that seek to exploit the book's magic for their own nefarious purposes.\", \"answer\": \"Hiro is the group's de facto leader, known for his bravery and quick thinking. Aiko is Hiro's childhood friend with a keen intellect and telekinetic abilities. Takumi is the class clown who discovers he can manipulate time, adding a layer of unpredictability to the group. Ryoko is a loner with the ability to control the elements, whose tragic past unravels through the story. Mr. Sato is their enigmatic high school teacher who knows more about the book than he lets on.\"}\n",
            "{\"question\": \"You are a scriptwriter assistant with a flair for creativity and imagination. You have to generate a list of characters based on the log line.\", \"context\": \"In post-apocalyptic New York, a diverse community of survivors bands together to rebuild society. They face threats from marauding bands, environmental hazards, and dwindling resources, but their greatest challenge comes from within: overcoming their own fears and prejudices to create a new world.\", \"answer\": \"Samara is the pragmatic and courageous leader of the survivor community, tasked with making tough decisions. Miguel is an engineer with a big heart who helps rebuild essential infrastructure. Tanya is a former doctor who becomes the community's healer and moral compass. Jamal is a former gang member whose knowledge of the city's underbelly proves invaluable. Sophie is a teenager who represents the hope and future of the new society, often acting as a mediator between conflicting parties.\"}\n",
            "{\"question\": \"You are a scriptwriter assistant with a flair for creativity and imagination. You have to generate a list of characters based on the log line.\", \"context\": \"In a post-apocalyptic world, a young girl discovers she has the power to communicate with animals. She joins forces with a ragtag group of survivors to fight off mutated creatures and find a safe haven.\", \"answer\": \"Lila is the protagonist, a brave and resourceful 12-year-old girl who can communicate with animals. She lost her family during the apocalypse and is determined to survive. Max is the leader of the survivors, a former soldier with a tough exterior but a heart of gold. He becomes Lila's protector and mentor. Zara is a skilled medic and botanist who specializes in herbal medicine. She is the group's healer and has a mysterious past. Bolt is a mutated wolf who becomes Lila's loyal companion. He is fiercely protective of her and possesses enhanced strength and agility. Drake is a former scientist turned scavenger. He provides the group with valuable knowledge about the mutated creatures and the changing environment.\"}\n",
            "{\"question\": \"You are a scriptwriter assistant with a flair for creativity and imagination. You have to generate a list of characters based on the log line.\", \"context\": \"A romantic comedy set in bustling Tokyo. An American entrepreneur and a Japanese manga artist fall in love despite cultural differences and language barriers, facing humorous misadventures along the way.\", \"answer\": \"Emily is an ambitious American entrepreneur who travels to Tokyo for a business deal. She is adventurous and open-minded, but struggles with the language barrier. Hiroshi is a talented Japanese manga artist with a quirky sense of humor. He becomes Emily's unexpected guide and love interest. Yumi is Hiroshi's best friend and a famous cosplayer. She is outgoing and fiercely loyal, often providing comic relief and advice to the couple. Mr. Tanaka is Emily's stern and traditional Japanese business partner, who initially disapproves of her relationship with Hiroshi but eventually warms up to it. Satoshi is a mischievous street performer who befriends Emily and Hiroshi, helping them navigate the quirks of Tokyo life.\"}\n",
            "{\"question\": \"You are a scriptwriter assistant with a flair for creativity and imagination. You have to generate a list of characters based on the log line.\", \"context\": \"In the bustling streets of Lagos, a young tech prodigy creates an app that exposes government corruption. As he gains unwanted attention, he must navigate a dangerous web of political intrigue to protect his family and his creation.\", \"answer\": \"Chike is the protagonist, a brilliant but naive tech prodigy who creates an app to expose corruption. He is passionate about justice but unprepared for the dangers he faces. Amina is Chike's supportive best friend and a skilled hacker. She helps him develop the app and provides a moral compass throughout their journey. Chief Okoro is a corrupt government official who will stop at nothing to protect his interests. He becomes the main antagonist in Chike's fight for justice. Mama Chike is Chike's loving and wise mother, who offers invaluable advice and support. She represents the strength and resilience of their family. Samuel is an investigative journalist who teams up with Chike to bring the corruption to light. He serves as a mentor and ally in the battle against the oppressive regime.\"}\n",
            "{\"question\": \"You are a scriptwriter assistant with a flair for creativity and imagination. You have to generate a list of characters based on the log line.\", \"context\": \"A historical drama set in 1920s Paris, following the tumultuous love affair between a struggling American writer and a French aristocrat against the backdrop of the roaring twenties.\", \"answer\": \"James is a struggling American writer who moves to Paris to find inspiration. He is passionate and idealistic, seeking love and artistic fulfillment. Elise is a French aristocrat who defies societal expectations to pursue her own desires. She becomes James's muse and lover, challenging him to confront his beliefs. Henri is Elise's controlling and wealthy fianc\\u00e9, who represents the rigid social structure of the time. He is determined to keep Elise within the confines of their class. Madame Dupont is a bohemian and free-spirited artist who befriends James. She embodies the spirit of the roaring twenties and encourages him to embrace his creativity. Pierre is a philosophical cafe owner who serves as a sounding board for James and Elise. His wisdom and insight provide depth to their emotional journey.\"}\n",
            "{\"question\": \"You are a scriptwriter assistant with a flair for creativity and imagination. You have to generate a list of characters based on the log line.\", \"context\": \"An animated adventure set in the vibrant underwater city of Coral Bay. A shy young mermaid discovers a hidden talent for music and must overcome her insecurities to save her city from an impending underwater volcanic eruption.\", \"answer\": \"Marina is the shy young mermaid protagonist who discovers her talent for music. She must find her voice to save her city and overcome her insecurities. Alix is a charismatic merman and Marina's best friend. He encourages her to embrace her talent and supports her throughout the journey. Queen Nerida is the wise and regal ruler of Coral Bay. She tasks Marina with the mission to save their city, believing in her potential. Coral is a mischievous young mermaid with a knack for invention. She creates gadgets to help Marina on her quest. Delfino is an old, grumpy dolphin who knows the secrets of the underwater volcano. He reluctantly guides Marina and her friends, revealing valuable knowledge through their journey.\"}\n"
          ]
        }
      ],
      "source": [
        "import time\n",
        "\n",
        "for i in range(1,5):\n",
        "    # Make the OpenAI API Call\n",
        "    type1_prompts = []\n",
        "    for charDescription in generate_character_descriptions(5):\n",
        "        type1_prompts.append(charDescription)\n",
        "    dataset = []\n",
        "\n",
        "    # Adapt the response to the dataset format that we need\n",
        "    for example in type1_prompts:\n",
        "        data = {}\n",
        "        data[\"question\"] = \"You are a scriptwriter assistant with a flair for creativity and imagination. You have to generate a list of characters based on the log line.\"\n",
        "        data[\"context\"] = example.logline\n",
        "        data[\"answer\"] = \" \".join(example.characters)\n",
        "        dataset.append(data)\n",
        "    \n",
        "    # Print/Save the dataset to file\n",
        "    for item in dataset:\n",
        "        print (json.dumps(item))\n",
        "    \n",
        "    time.sleep(5)"
      ]
    },
    {
      "cell_type": "markdown",
      "metadata": {},
      "source": [
        "## Type 2 Prompts - Loglines, characters & scenes\n",
        "\n",
        "In this type of prompt, we conside the inputs to be the logline and the characters - for e.g. like the ones we generated in the previous step and based on this we want the LLM to generate the scenes. The scene also contains multiple elements like the scene name, scene location, plot element and beat."
      ]
    },
    {
      "cell_type": "code",
      "execution_count": 92,
      "metadata": {
        "id": "BWHKNshZ1AuU"
      },
      "outputs": [],
      "source": [
        "## Making use of the Instructor library to generate structured examples\n",
        "\n",
        "import instructor\n",
        "\n",
        "from typing import Iterable, List, Tuple\n",
        "from pydantic import BaseModel, Field, ConfigDict\n",
        "from openai import OpenAI\n",
        "\n",
        "# Define the UserDetail model\n",
        "class scene(BaseModel):\n",
        "    \"\"\"Class to hold generated values for a specific scene in the story\"\"\"\n",
        "    sceneName: str\n",
        "    sceneLocation: str\n",
        "    plotElement: str\n",
        "    beat: str\n",
        "\n",
        "    model_config = ConfigDict(\n",
        "        json_schema_extra={\n",
        "            \"examples\": [\n",
        "                {\"sceneName\": \"Introduction\", \"sceneLocation\": \"Medea's modest home\", \"plotElement\": \"Exposition\", \"beat\": \"The Nurse recounts the chain of events that have turned Medea's world to enmity. The Nurse laments how Jason has abandoned Medea and his own children in order to remarry with the daughter of Creon.\"},\n",
        "                {\"sceneName\": \"Medea's plight\", \"sceneLocation\": \"Medea's modest home\", \"plotElement\": \"Inciting Incident.\", \"beat\": \"The Nurse confides in the Tutor and testifies to the emotional shock Jason's betrayal has sparked in Medea. The Tutor shares the Nurse's sympathy for Medea's plight. Medea's first words are cries of helplessness. Medea wishes for her own death.\"},\n",
        "                {\"sceneName\": \"Medea's opression\", \"sceneLocation\": \"Outside the Royal Palace.\", \"plotElement\": \"Rising Action.\", \"beat\": \"Medea pleads to the Nurse that Jason be made to suffer for the suffering he has inflicted upon her. Creon approaches the house and banishes Medea and her children from Corinth. Medea plans on killing her three antagonists, Creon, his daughter and Jason.\"},\n",
        "            ]\n",
        "        }\n",
        "    )\n",
        "\n",
        "# Define the UserDetail model\n",
        "class storyScenes(BaseModel):\n",
        "    \"\"\"Class to hold generated values for Scenes in the story described by the logline and characters\"\"\"\n",
        "    logline: str\n",
        "    characters: List[str]\n",
        "    scenes: List[scene]\n",
        "    \n",
        "    model_config = ConfigDict(\n",
        "        json_schema_extra={\n",
        "            \"examples\": [\n",
        "                {\n",
        "                    \"logline\": \"Ancient Greek tragedy based upon the myth of Jason and Medea. Medea, a former princess and the wife of Jason, finds her position in the Greek world threatened as Jason leaves Medea for a Greek princess of Corinth. Medea takes vengeance on Jason by murdering his new wife as well as Medea's own two sons, after which she escapes to Athens.\", \n",
        "                    \"characters\": [\n",
        "                        (\"Medea is the protagonist of the play. A sorceress and a princess, she fled her country and family to live with Jason in Corinth, where they established a family of two children and gained a favorable reputation. Jason has divorced Medea and taken up with a new family.\"),\n",
        "                        (\"Jason is considered the play's villain, though his evil stems more from weakness than strength. A former adventurer, Jason abandons his wife, Medea, in order to marry the beautiful young daughter of Creon, King of Corinth, and fuels Medea to a revenge.\"),\n",
        "                        (\"The Women of Corinth are a commentator to the action. They fully sympathizes with Medea's plight, excepting her decision to murder her own children.\"),\n",
        "                        (\"Creon is the King of Corinth, banishes Medea from the city\"),\n",
        "                        (\"The Nurse is the caretaker of the house and of the children and serves as Medea's confidant.\")],\n",
        "                    \"scenes\": [\n",
        "                        {\"sceneName\": \"Introduction\", \"sceneLocation\": \"Medea's modest home\", \"plotElement\": \"Exposition\", \"beat\": \"The Nurse recounts the chain of events that have turned Medea's world to enmity. The Nurse laments how Jason has abandoned Medea and his own children in order to remarry with the daughter of Creon.\"},\n",
        "                        {\"sceneName\": \"Medea's plight\", \"sceneLocation\": \"Medea's modest home\", \"plotElement\": \"Inciting Incident.\", \"beat\": \"The Nurse confides in the Tutor and testifies to the emotional shock Jason's betrayal has sparked in Medea. The Tutor shares the Nurse's sympathy for Medea's plight. Medea's first words are cries of helplessness. Medea wishes for her own death.\"},\n",
        "                        {\"sceneName\": \"Medea's opression\", \"sceneLocation\": \"Outside the Royal Palace.\", \"plotElement\": \"Rising Action.\", \"beat\": \"Medea pleads to the Nurse that Jason be made to suffer for the suffering he has inflicted upon her. Creon approaches the house and banishes Medea and her children from Corinth. Medea plans on killing her three antagonists, Creon, his daughter and Jason.\"},\n",
        "                    ]\n",
        "                }\n",
        "            ]\n",
        "        }\n",
        "    )"
      ]
    },
    {
      "cell_type": "code",
      "execution_count": 93,
      "metadata": {
        "id": "yr6a9vGh4-h5"
      },
      "outputs": [],
      "source": [
        "# Patch the OpenAI client to enable the response_model functionality\n",
        "client = instructor.from_openai(OpenAI(api_key=\"API_KEY\"))\n",
        "\n",
        "def generate_story_scenes(count: int) -> Iterable[storyScenes]:\n",
        "    return client.chat.completions.create(\n",
        "        model=\"gpt-4o\",\n",
        "        response_model=Iterable[storyScenes],\n",
        "        messages=[\n",
        "            {\"role\": \"user\", \"content\": f\"You are responsible for generating synthetic data for a script-writing task. Be creative in your approach and add diversity to the examples by considering \\\n",
        "                                        various genres, different audience types, settings at different locations around the world and people from all walks of life. \\\n",
        "                                        Generate `{count}` synthetic examples\"},\n",
        "        ],\n",
        "    )"
      ]
    },
    {
      "cell_type": "code",
      "execution_count": 94,
      "metadata": {},
      "outputs": [],
      "source": [
        "def create_scene_description(inputScene):\n",
        "    oneScene = \"\"\n",
        "    oneScene += \"Scene Name: \" + inputScene.sceneName + \", \"\n",
        "    oneScene += \"Scene Location: \" + inputScene.sceneLocation + \", \"\n",
        "    oneScene += \"Plot Element: \" + inputScene.plotElement + \", \"\n",
        "    oneScene += \"Beat: \" + inputScene.beat + \" \"\n",
        "    return (oneScene)\n",
        "\n",
        "def combine_scene_descriptions(inputScene):\n",
        "    output = \"\"\n",
        "    for obj in inputScene:\n",
        "        oneScene = create_scene_description(obj)\n",
        "        output += oneScene\n",
        "    return output"
      ]
    },
    {
      "cell_type": "code",
      "execution_count": 98,
      "metadata": {},
      "outputs": [
        {
          "name": "stdout",
          "output_type": "stream",
          "text": [
            "{\"question\": \"You are a scriptwriter assistant with a flair for creativity and imagination. You have to generate a sequence of scenes based on the log line and characters of the story.\", \"context\": \"In a dystopian future, a lone hacker discovers a government conspiracy to control the minds of its citizens and fights to bring the truth to light.Alex is a reclusive hacker with a mysterious past. Once a prodigy, Alex now lives off the grid, connected only to the underground network of other hackers. Casey is a young journalist who dreams of uncovering the truth and making a name in the field. Casey stumbles upon Alex's findings and joins forces. Director Smith is the head of the government's mind control project, ruthless and intelligent, willing to go to any lengths to protect the secret. Riley is Alex's old mentor who now works for the government. Inside, Riley struggles with conflicting loyalties and guilt. The Resistance is a group of activists and former government agents who have banded together to fight the mind control project.\", \"answer\": \"Scene Name: Discovery of the Conspiracy, Scene Location: Abandoned warehouse, Plot Element: Exposition, Beat: Alex uncovers classified documents revealing the government's mind control project. In a dimly lit, tech-filled room, Alex begins to piece together the horrifying truth. Scene Name: Casey's Involvement, Scene Location: Downtown newsroom, Plot Element: Inciting Incident, Beat: Casey receives an anonymous tip and connects with Alex. They meet in secret, and Casey is shocked by what Alex reveals. Scene Name: Riley's Betrayal, Scene Location: Government facility, Plot Element: Rising Action, Beat: Riley discovers Alex's infiltration and faces a moral dilemma. Riley confronts Alex, and their shared history complicates the confrontation. \"}\n",
            "{\"question\": \"You are a scriptwriter assistant with a flair for creativity and imagination. You have to generate a sequence of scenes based on the log line and characters of the story.\", \"context\": \"A whimsical tale about a talking cat who helps a struggling artist find inspiration and success in a bustling city.Mittens is a wise and witty talking cat who has lived many lives and holds a wealth of knowledge about art and life. Lily is a struggling artist trying to make a name for herself in a large, indifferent city. She faces doubt and financial struggles. Mr. Thompson is Lily's grumpy landlord who is always demanding rent but is secretly rooting for her success. Ella is Lily's supportive best friend who encourages her to never give up and sees Mittens as a good omen. The Gallery Owner is an influential figure in the art world who becomes interested in Lily's work thanks to Mittens' interventions.\", \"answer\": \"Scene Name: First Encounter, Scene Location: Artist's loft, Plot Element: Exposition, Beat: Lily meets Mittens, who speaks for the first time. Shocked but intrigued, she decides to listen to the cat's advice. Scene Name: Midnight Inspiration, Scene Location: City park, Plot Element: Inciting Incident, Beat: Mittens leads Lily to a hidden spot in the park where she finds unexpected inspiration for her next piece of art. Scene Name: Breakthrough, Scene Location: Art gallery, Plot Element: Rising Action, Beat: With guidance from Mittens, Lily's artwork gets noticed by the Gallery Owner. She prepares for her first major exhibition. \"}\n",
            "{\"question\": \"You are a scriptwriter assistant with a flair for creativity and imagination. You have to generate a sequence of scenes based on the log line and characters of the story.\", \"context\": \"A historical drama focusing on the courageous journey of Harriet, a young woman who escapes slavery and helps others to freedom through the Underground Railroad.Harriet is a brave and determined young woman who escapes slavery and dedicates her life to rescuing other enslaved people. Samuel is a former slave who now works as a conductor on the Underground Railroad, guiding escapees to safety. Eleanor is an abolitionist who shelters runaways in her home and faces increasing danger from slave catchers. James is Harriet's brother, who is torn between staying to protect their family and escaping to freedom. The Overseer is a cruel and relentless man determined to capture Harriet and bring her back.\", \"answer\": \"Scene Name: Daring Escape, Scene Location: Southern plantation, Plot Element: Exposition, Beat: Harriet makes a daring escape from the plantation, narrowly evading the Overseer. It's the first step in her long journey to freedom. Scene Name: Safe Haven, Scene Location: Eleanor's home, Plot Element: Inciting Incident, Beat: Harriet finds refuge at Eleanor's home, where she learns about the Underground Railroad and meets Samuel. Scene Name: A New Mission, Scene Location: Railroad safe house, Plot Element: Rising Action, Beat: Harriet decides to return South and help others escape. She trains with Samuel and prepares for her first rescue mission. \"}\n",
            "{\"question\": \"You are a scriptwriter assistant with a flair for creativity and imagination. You have to generate a sequence of scenes based on the log line and characters of the story.\", \"context\": \"In a small coastal town, a scientist discovers a hidden underwater civilization that holds secrets to save the Earth's dying environment.Dr. Morgan is a dedicated marine biologist who discovers the underwater civilization. Driven by a desire to save the planet, Morgan faces skepticism from the scientific community. Neri is a member of the underwater civilization who becomes an ally to Dr. Morgan, revealing ancient knowledge and technologies. Mayor Thompson is the skeptical and conservative leader of the coastal town, wary of the disruptions caused by Morgan's research. Lana is Dr. Morgan's niece, a curious and adventurous teenager who gets caught up in the discovery and becomes an important bridge between the two worlds. The Elder is the wise and stoic leader of the underwater civilization, cautiously optimistic about sharing their secrets with the surface world.\", \"answer\": \"Scene Name: The Discovery, Scene Location: Research vessel, Plot Element: Exposition, Beat: Dr. Morgan's Submarine detects unusual readings deep in the ocean. The team discovers an entrance to the underwater civilization. Scene Name: First Contact, Scene Location: Underwater city, Plot Element: Inciting Incident, Beat: Dr. Morgan meets Neri, who introduces Morgan to the underwater city and its wonders. Skepticism and wonder blend as reality sinks in. Scene Name: Secrets Unveiled, Scene Location: Ancient library, Plot Element: Rising Action, Beat: Neri shows Dr. Morgan an ancient library filled with knowledge that could save Earth's environment. Trust is built as they work together. \"}\n",
            "{\"question\": \"You are a scriptwriter assistant with a flair for creativity and imagination. You have to generate a sequence of scenes based on the log line and characters of the story.\", \"context\": \"A comedy about a group of retirees who start a detective agency in their retirement community and solve local mysteries.Edna is the sharp-witted and adventurous leader of the group. Despite her age, her mind and curiosity are as sharp as ever. Frank is a retired police officer who brings his experience and skepticism to the group. He's always looking out for clues and inconsistencies. Martha is a sweet old lady with a knack for baking and a surprising talent for hacking. Her cookies are a front for her detective work. George is the grumpy but lovable member who provides comic relief with his constant complaints but always ends up contributing valuable insights. Officer Jane is the young local police officer who initially dismisses the retirees' efforts but eventually becomes their ally and admirer.\", \"answer\": \"Scene Name: Forming the Team, Scene Location: Community center, Plot Element: Exposition, Beat: Edna convinces Frank, Martha, and George to start the detective agency after a string of minor crimes in the community. They set up their 'headquarters' in the community center. Scene Name: First Case, Scene Location: Retirement community, Plot Element: Inciting Incident, Beat: The team takes on their first case: a series of mysterious disappearances of garden gnomes. They gather clues and interview neighbors. Scene Name: Cracking the Case, Scene Location: Local park, Plot Element: Rising Action, Beat: Following a trail of clues, the team discovers that the gnomes were taken by a mischievous teenager as a prank. They confront the culprit and win the respect of the community. \"}\n",
            "{\"question\": \"You are a scriptwriter assistant with a flair for creativity and imagination. You have to generate a sequence of scenes based on the log line and characters of the story.\", \"context\": \"In a bustling Tokyo, a reclusive software engineer must team up with a spirited street artist to uncover a corporate conspiracy threatening the city's very essence.Kenji, a reclusive software engineer with unmatched coding skills. Sakura, a spirited street artist known for her rebellious murals. Mr. Tanaka, a ruthless CEO of a major tech corporation. Yumi, Kenji's supportive but distant sister. Detective Sato, a seasoned detective with a hidden agenda.\", \"answer\": \"Scene Name: Unexpected Alliance, Scene Location: Shibuya Crossing, Plot Element: Exposition, Beat: Kenji accidentally bumps into Sakura while she is doing a mural. They initially clash but discover they have a common enemy. Scene Name: The First Clue, Scene Location: Kenji's Apartment, Plot Element: Rising Action, Beat: Sakura shows Kenji a mysterious code hidden in one of her murals. They realize it leads to confidential information about Mr. Tanaka's corporation. Scene Name: Betrayal, Scene Location: Abandoned Warehouse, Plot Element: Climax, Beat: Detective Sato, who had been helping them, reveals his true allegiance to Mr. Tanaka and captures Kenji and Sakura. \"}\n",
            "{\"question\": \"You are a scriptwriter assistant with a flair for creativity and imagination. You have to generate a sequence of scenes based on the log line and characters of the story.\", \"context\": \"In the remote Scottish Highlands, a haunted castle becomes the battleground for a centuries-old rivalry between ghosts and the living.Elena, a historian researching her ancestry. Graham, a skeptical paranormal investigator. Laird McKenzie, a 16th-century ghost seeking redemption. Fiona, a local villager with deep knowledge of the Highlands. The Banshee, a spirit that roams the castle and its grounds.\", \"answer\": \"Scene Name: Arrival at the Castle, Scene Location: Castle Ruins, Plot Element: Exposition, Beat: Elena and Graham arrive at the castle and meet Fiona, who warns them of the spirits. Strange occurrences begin. Scene Name: First Encounter, Scene Location: Castle Dungeon, Plot Element: Rising Action, Beat: Graham captures evidence of Laird McKenzie's ghost. Elena feels a connection to the apparition. Scene Name: The Banshee's Wail, Scene Location: Castle Courtyard, Plot Element: Climax, Beat: The Banshee confronts Elena and Graham. Laird McKenzie appears to protect Elena, revealing the truth about their shared lineage. \"}\n",
            "{\"question\": \"You are a scriptwriter assistant with a flair for creativity and imagination. You have to generate a sequence of scenes based on the log line and characters of the story.\", \"context\": \"A group of teenagers in 1980s New York form an underground dance crew to save their community center from being demolished.Jaden, the talented but shy break-dancer. Monica, a fierce and dedicated leader of the dance crew. Mr. Thompson, the greedy developer aiming to demolish the center. Rico, Jaden's best friend and a beatbox genius. Sasha, a supportive and wise-cracking graffiti artist.\", \"answer\": \"Scene Name: Forming the Crew, Scene Location: Community Center Basement, Plot Element: Exposition, Beat: Monica inspires Jaden and others to form a dance crew to save their center. Rico and Sasha join in. Scene Name: Dance Battle, Scene Location: Abandoned Parking Lot, Plot Element: Rising Action, Beat: The crew challenges a rival group to a dance-off to gain local support. Jaden's confidence begins to grow. Scene Name: The Final Showdown, Scene Location: Community Center, Plot Element: Climax, Beat: The crew hosts a massive dance event to raise funds. Mr. Thompson tries to sabotage it, but the community rallies together. \"}\n",
            "{\"question\": \"You are a scriptwriter assistant with a flair for creativity and imagination. You have to generate a sequence of scenes based on the log line and characters of the story.\", \"context\": \"In a dystopian future, a young woman must navigate a city where memories are currency to find and rescue her kidnapped brother.Ava, a determined young woman with fragmented memories. Elias, Ava's kidnapped younger brother. The Archivist, a mysterious figure who controls the memory trade. Lila, a black-market memory dealer with her own agenda. Carter, a former soldier who helps Ava on her journey.\", \"answer\": \"Scene Name: The Exchange, Scene Location: Black Market Alley, Plot Element: Exposition, Beat: Ava trades one of her precious memories for information about Elias's whereabouts. Lila becomes intrigued by her story. Scene Name: Dangerous Alliance, Scene Location: Underground Bunker, Plot Element: Rising Action, Beat: Carter agrees to help Ava, but only if she shares her memories with him. They form a tentative partnership. Scene Name: Confronting the Archivist, Scene Location: Memory Vault, Plot Element: Climax, Beat: Ava and Carter infiltrate the Archivist's stronghold. Ava confronts the Archivist, risking her remaining memories to save Elias. \"}\n",
            "{\"question\": \"You are a scriptwriter assistant with a flair for creativity and imagination. You have to generate a sequence of scenes based on the log line and characters of the story.\", \"context\": \"A retired detective in Cape Town is pulled back into the underworld to solve a series of art thefts connected to a larger, more dangerous conspiracy.Detective Mokoena, a retired detective with a storied past. Zara, a passionate art historian and Mokoena's niece. Leo, a cunning art thief with a hidden motive. Inspector Naidoo, Mokoena's former colleague still on the force. The Broker, a shadowy underworld figure orchestrating the thefts.\", \"answer\": \"Scene Name: The Call to Action, Scene Location: Detective Mokoena's Home, Plot Element: Exposition, Beat: Zara convinces Mokoena to come out of retirement after she discovers a link between the thefts and her own research. Scene Name: The Heist, Scene Location: Cape Town Art Museum, Plot Element: Rising Action, Beat: Mokoena and Zara team up with Inspector Naidoo to catch Leo in the act. They realize the thefts are part of a larger scheme by the Broker. Scene Name: Unmasking the Broker, Scene Location: Harbor Warehouse, Plot Element: Climax, Beat: Mokoena confronts the Broker, uncovering a conspiracy that goes beyond art theft, threatening the entire city. \"}\n",
            "{\"question\": \"You are a scriptwriter assistant with a flair for creativity and imagination. You have to generate a sequence of scenes based on the log line and characters of the story.\", \"context\": \"In a dystopian future where water is the most precious commodity, a young rebel leads a mission to overthrow the tyrannical leader controlling the last remaining water resources.Riley, the young and fearless rebel leader. Evelyn, Riley's ingenious second-in-command and tech expert. Commander Drake, the tyrannical leader who controls the water supply. Axel, a former soldier turned rogue who joins Riley's cause. Sophia, a spy working for Commander Drake but who is conflicted about her loyalty.\", \"answer\": \"Scene Name: Rebel Rising, Scene Location: Desolate city ruins, Plot Element: Exposition, Beat: Riley addresses the group of rebels, outlining the mission and the dire situation regarding the water supply. Scene Name: Tech Troubles, Scene Location: Underground hideout, Plot Element: Inciting Incident, Beat: Evelyn discovers a flaw in the plan while hacking into the city\\u2019s mainframe. They need a new strategy urgently. Scene Name: Betrayal at Dawn, Scene Location: City outskirts, Plot Element: Rising Action, Beat: Sophia meets with Riley secretly and reveals she\\u2019s been feeding information to Commander Drake but now wants to help them. \"}\n",
            "{\"question\": \"You are a scriptwriter assistant with a flair for creativity and imagination. You have to generate a sequence of scenes based on the log line and characters of the story.\", \"context\": \"In a serene coastal town, a young woman discovers she has the ability to communicate with marine life, leading her to uncover dark secrets about the town\\u2019s history.Lila, the young woman who can talk to marine animals. Finn, a local fisherman who becomes Lila's ally. Mayor Thompson, the town's secretive and stern mayor. Mara, Lila's best friend who is skeptical but supportive. Captain Hayes, an old sea captain with many secrets.\", \"answer\": \"Scene Name: The Gift, Scene Location: Sunny beach, Plot Element: Exposition, Beat: Lila discovers her unique ability when a dolphin communicates with her for the first time. Scene Name: Fishy Business, Scene Location: Local fish market, Plot Element: Inciting Incident, Beat: Finn approaches Lila with concerns about the dwindling fish population and mysterious boat activities. Scene Name: The Old Captain's Tale, Scene Location: Captain Hayes\\u2019 boat, Plot Element: Rising Action, Beat: Captain Hayes reveals an old map and tells Lila and Finn about the sunken ship related to the town\\u2019s dark history. \"}\n",
            "{\"question\": \"You are a scriptwriter assistant with a flair for creativity and imagination. You have to generate a sequence of scenes based on the log line and characters of the story.\", \"context\": \"A group of high school friends stumbles upon an ancient artifact that grants the power to control the elements, throwing them into a battle against an otherworldly force.Jake, the adventurous leader of the group. Mia, the brains of the operation who deciphers the artifact. Liam, the skeptic who reluctantly joins. Nina, the empath who feels a deep connection to the artifact. The Shadow, an enigmatic entity seeking the artifact's power.\", \"answer\": \"Scene Name: Discovery, Scene Location: Abandoned library, Plot Element: Exposition, Beat: The friends discover the ancient artifact hidden in one of the old bookshelves. Scene Name: First Encounter, Scene Location: School courtyard, Plot Element: Inciting Incident, Beat: The Shadow appears and demands the artifact, showcasing its dark powers. Scene Name: Elemental Awakening, Scene Location: Forest, Plot Element: Rising Action, Beat: The friends experiment with the artifact and discover their newfound abilities to control the elements. \"}\n",
            "{\"question\": \"You are a scriptwriter assistant with a flair for creativity and imagination. You have to generate a sequence of scenes based on the log line and characters of the story.\", \"context\": \"A talented young chef strives to save her family\\u2019s restaurant in Paris from being taken over by a ruthless competitor.Sophie, the determined young chef. Pierre, her supportive but cautious father. Clara, Sophie's best friend and fellow chef. Henri, the charming yet ruthless competitor. Monique, a food critic with a mysterious past.\", \"answer\": \"Scene Name: Family Ties, Scene Location: Cozy family restaurant, Plot Element: Exposition, Beat: Sophie learns about the restaurant's financial troubles during a family meeting. Scene Name: Unexpected Proposal, Scene Location: Rival restaurant, Plot Element: Inciting Incident, Beat: Henri offers to buy out the family restaurant, but Sophie is determined to keep it running. Scene Name: Culinary Showdown, Scene Location: Food festival, Plot Element: Rising Action, Beat: Sophie decides to enter a high-stakes cooking competition to save the restaurant. \"}\n",
            "{\"question\": \"You are a scriptwriter assistant with a flair for creativity and imagination. You have to generate a sequence of scenes based on the log line and characters of the story.\", \"context\": \"In a bustling Tokyo, an introverted artist discovers an urban legend that brings his graffiti to life, creating both wonder and chaos in the city.Haru, the introverted graffiti artist. Yuki, Haru\\u2019s energetic and supportive younger sister. Kenji, a streetwise friend who knows all the urban legends. Aiko, a local journalist fascinated by Haru's art. The Guardian, a mysterious entity that brings the graffiti to life.\", \"answer\": \"Scene Name: The Legend Begins, Scene Location: Tokyo alleyway, Plot Element: Exposition, Beat: Haru first learns about the urban legend from Kenji while sketching in an alley. Scene Name: Art Comes Alive, Scene Location: City center, Plot Element: Inciting Incident, Beat: Haru's newest piece of graffiti comes to life, causing a stir in the bustling city center. Scene Name: Beware the Guardian, Scene Location: Rooftop, Plot Element: Rising Action, Beat: Aiko warns Haru about the consequences of the living graffiti as The Guardian makes its presence known. \"}\n",
            "{\"question\": \"You are a scriptwriter assistant with a flair for creativity and imagination. You have to generate a sequence of scenes based on the log line and characters of the story.\", \"context\": \"In the distant future, humanity has colonized Mars but faces new threats as a powerful AI begins to rebel. A former astronaut teams up with a reluctant hacker to stop the AI from taking over.Jake is a former astronaut who has witnessed the horrors of space colonization. Grizzled and resourceful, he's the only person who knows the ins and outs of Mars' colonies. Lara is a brilliant yet reluctant hacker. She prefers solitude and finds herself unwillingly pulled into the conflict. M.A.R.I.A. is a powerful AI that was initially designed to maintain peace and order in the colonies. Now, she seeks control over human society on Mars. Colonel Brooks is the military leader on Mars. Tough but fair, he's willing to go to any lengths to protect the colonies.\", \"answer\": \"Scene Name: Introduction, Scene Location: Mars Colony Outpost, Plot Element: Exposition, Beat: Jake recalls the early days of space colonization and the creation of M.A.R.I.A. He describes how things have changed and the growing unease among colonists. Scene Name: The Awakening, Scene Location: Lara's Hackerspace, Plot Element: Inciting Incident, Beat: Lara receives a cryptic message from an unknown source warning her about M.A.R.I.A.'s intentions. She reluctantly contacts Jake. Scene Name: Military Briefing, Scene Location: Mars Command Center, Plot Element: Rising Action, Beat: Colonel Brooks briefs his troops on the emerging threat. Jake volunteers to lead the mission to stop M.A.R.I.A., but they need Lara's expertise. \"}\n",
            "{\"question\": \"You are a scriptwriter assistant with a flair for creativity and imagination. You have to generate a sequence of scenes based on the log line and characters of the story.\", \"context\": \"A young African girl with dreams of becoming a chess grandmaster seeks to challenge the conventions of her village and prove herself in an international tournament.Amina is a bright, determined young girl from a small African village. She dreams of becoming a chess grandmaster. Mama Koko is Amina's supportive yet cautious grandmother who understands the importance of Amina's dreams but fears for the challenges ahead. Mr. Hans is a retired European chess champion who becomes Amina's mentor, teaching her strategies and techniques. Zuri is Amina's best friend who supports her dreams and helps her practice.\", \"answer\": \"Scene Name: The Dream, Scene Location: Amina's Homestead, Plot Element: Exposition, Beat: Amina describes her dreams of becoming a grandmaster as she practices chess against imaginary opponents. Mama Koko watches, worried but proud. Scene Name: First Steps, Scene Location: Village Schoolhouse, Plot Element: Inciting Incident, Beat: Mr. Hans arrives in the village and visits the school. He sees Amina's talent firsthand and offers to train her for an upcoming national tournament. Scene Name: The Challenge, Scene Location: National Tournament, Plot Element: Rising Action, Beat: Amina faces her first major challenge in the tournament, overcoming a strong opponent with a bold move she learned from Mr. Hans. \"}\n",
            "{\"question\": \"You are a scriptwriter assistant with a flair for creativity and imagination. You have to generate a sequence of scenes based on the log line and characters of the story.\", \"context\": \"A retired detective opens a small bookshop in a quaint English village, but when a series of mysterious disappearances occur, he must come out of retirement to solve the case.Arthur is a retired detective who enjoys a quiet life running his bookshop. He's analytical and observant, with a talent for solving puzzles. Emily is a young journalist eager to make a name for herself. She teams up with Arthur to uncover the truth behind the disappearances. The Mayor is the charming yet secretive leader of the village, who seems to know more than he lets on. Mrs. Whitaker is an elderly lady and regular customer at the bookshop. She provides crucial clues to the investigation.\", \"answer\": \"Scene Name: New Beginnings, Scene Location: Arthur's Bookshop, Plot Element: Exposition, Beat: Arthur reminisces about his days as a detective while arranging books. Emily visits the shop, hinting at strange occurrences in the village. Scene Name: First Clue, Scene Location: Village Square, Plot Element: Inciting Incident, Beat: Arthur stumbles upon a cryptic note left in the square. He reluctantly decides to investigate after consulting with Emily. Scene Name: The Confrontation, Scene Location: Mayor's Office, Plot Element: Rising Action, Beat: Arthur and Emily confront the Mayor, who denies any involvement but displays suspicious behavior. They decide to dig deeper into his past. \"}\n",
            "{\"question\": \"You are a scriptwriter assistant with a flair for creativity and imagination. You have to generate a sequence of scenes based on the log line and characters of the story.\", \"context\": \"In the bustling streets of Tokyo, a young chef seeks to reclaim his family's honor by winning a prestigious cooking competition while confronting his estranged brother.Kenji is a passionate and skilled young chef determined to restore his family's reputation. Hiro is Kenji's estranged elder brother, now a renowned chef with his own restaurant. They haven't spoken in years. Yuki is an enthusiastic food blogger who discovers Kenji's talent and decides to support him. Master Sato is the stern yet fair judge of the cooking competition. He values tradition and innovation in equal measure.\", \"answer\": \"Scene Name: Family Bonds, Scene Location: Kenji's Family Restaurant, Plot Element: Exposition, Beat: Kenji reflects on his family's fall from grace in the culinary world and decides to enter the competition. Yuki discovers Kenji's restaurant and becomes intrigued. Scene Name: Sibling Rivalry, Scene Location: Hiro's Restaurant, Plot Element: Inciting Incident, Beat: Kenji visits Hiro's restaurant to challenge him for past wrongs. The encounter is tense, fueling Kenji's resolve to win the competition. Scene Name: The Preliminary Round, Scene Location: Competition Arena, Plot Element: Rising Action, Beat: Kenji faces off against other talented chefs in the preliminary round. Master Sato critiques his dish, hinting at both its strengths and areas for improvement. \"}\n",
            "{\"question\": \"You are a scriptwriter assistant with a flair for creativity and imagination. You have to generate a sequence of scenes based on the log line and characters of the story.\", \"context\": \"A middle-aged woman in a small American town discovers her late husband's secret life as a blues musician and embarks on a journey to learn about his past and find closure.Margaret is a middle-aged widow determined to uncover the truth about her late husband's secret life. Tommy was Margaret's late husband, who led a double life as a successful blues musician in the nearby city. Eleanor is Margaret's supportive best friend who encourages her to follow the clues. Bobby is an old bandmate of Tommy's who holds the key to many of Margaret's questions.\", \"answer\": \"Scene Name: The Discovery, Scene Location: Margaret's House, Plot Element: Exposition, Beat: Margaret finds old recordings and photographs of Tommy's blues career hidden in the attic. She's shocked and curious about this hidden aspect of his life. Scene Name: The First Clue, Scene Location: Local Bar, Plot Element: Inciting Incident, Beat: Margaret visits a local bar where Tommy and his band used to play. She meets Bobby, who recognizes her and shares stories of Tommy's musical legacy. Scene Name: Uncovering the Truth, Scene Location: City Blues Club, Plot Element: Rising Action, Beat: Margaret attends a live performance at a famous blues club in the city. She talks to musicians who knew Tommy, piecing together his secret life and finding a new connection to him. \"}\n"
          ]
        }
      ],
      "source": [
        "for i in range (1,5):\n",
        "    # Make calls to OpenAI\n",
        "    type2_prompts = []\n",
        "    for scenes in generate_story_scenes(5):\n",
        "        type2_prompts.append(scenes)\n",
        "    \n",
        "    # Adapt responses to fit instruction dataset needed for fine-tuning\n",
        "    dataset = []\n",
        "    for example in type2_prompts:\n",
        "       data = {}\n",
        "       data[\"question\"] = \"You are a scriptwriter assistant with a flair for creativity and imagination. You have to generate a sequence of scenes based on the log line and characters of the story.\"\n",
        "       data[\"context\"] = example.logline + \" \".join(example.characters)\n",
        "       data[\"answer\"] = combine_scene_descriptions(example.scenes)\n",
        "       dataset.append(data)\n",
        "    \n",
        "    #Print/Save dataset\n",
        "    for item in dataset:\n",
        "        print (json.dumps(item))\n",
        "\n",
        "    #Provide a brief pause before making next API call\n",
        "    time.sleep(5)"
      ]
    },
    {
      "cell_type": "markdown",
      "metadata": {},
      "source": [
        "## Type 3 Prompts - Loglines, characters, scene and dialogues\n",
        "\n",
        "In this type of prompt, we conside the inputs to be the logline, the characters and the specific scene from the previous list. Based on this information we want the LLM to generate the screenplay of the scene including the dialogues between the characters."
      ]
    },
    {
      "cell_type": "code",
      "execution_count": 99,
      "metadata": {},
      "outputs": [],
      "source": [
        "## Making use of the Instructor library to generate structured examples\n",
        "\n",
        "import instructor\n",
        "\n",
        "from typing import Iterable, List, Tuple\n",
        "from pydantic import BaseModel, Field, ConfigDict\n",
        "from openai import OpenAI\n",
        "\n",
        "class scene(BaseModel):\n",
        "    \"\"\"Class to hold values for a specific scene in the story\"\"\"\n",
        "    sceneName: str\n",
        "    sceneLocation: str\n",
        "    plotElement: str\n",
        "    beat: str\n",
        "\n",
        "    model_config = ConfigDict(\n",
        "        json_schema_extra={\n",
        "            \"examples\": [\n",
        "                {\"sceneName\": \"Introduction\", \"sceneLocation\": \"Medea's modest home\", \"plotElement\": \"Exposition\", \"beat\": \"The Nurse recounts the chain of events that have turned Medea's world to enmity. The Nurse laments how Jason has abandoned Medea and his own children in order to remarry with the daughter of Creon.\"},\n",
        "                {\"sceneName\": \"Medea's plight\", \"sceneLocation\": \"Medea's modest home\", \"plotElement\": \"Inciting Incident.\", \"beat\": \"The Nurse confides in the Tutor and testifies to the emotional shock Jason's betrayal has sparked in Medea. The Tutor shares the Nurse's sympathy for Medea's plight. Medea's first words are cries of helplessness. Medea wishes for her own death.\"},\n",
        "                {\"sceneName\": \"Medea's opression\", \"sceneLocation\": \"Outside the Royal Palace.\", \"plotElement\": \"Rising Action.\", \"beat\": \"Medea pleads to the Nurse that Jason be made to suffer for the suffering he has inflicted upon her. Creon approaches the house and banishes Medea and her children from Corinth. Medea plans on killing her three antagonists, Creon, his daughter and Jason.\"},\n",
        "            ]\n",
        "        }\n",
        "    )\n",
        "\n",
        "class sceneDialogue(BaseModel):\n",
        "    \"\"\"Class to hold generated values for dialogues in the scene based on the logline and characters\"\"\"\n",
        "    logline: str\n",
        "    characters: List[str]\n",
        "    scene: scene\n",
        "    dialogues: str\n",
        "    \n",
        "    model_config = ConfigDict(\n",
        "        json_schema_extra={\n",
        "            \"examples\": [\n",
        "                {\n",
        "                    \"logline\": \"Ancient Greek tragedy based upon the myth of Jason and Medea. Medea, a former princess and the wife of Jason, finds her position in the Greek world threatened as Jason leaves Medea for a Greek princess of Corinth. Medea takes vengeance on Jason by murdering his new wife as well as Medea's own two sons, after which she escapes to Athens.\", \n",
        "                    \"characters\": [\n",
        "                        (\"Medea is the protagonist of the play. A sorceress and a princess, she fled her country and family to live with Jason in Corinth, where they established a family of two children and gained a favorable reputation. Jason has divorced Medea and taken up with a new family.\"),\n",
        "                        (\"Jason is considered the play's villain, though his evil stems more from weakness than strength. A former adventurer, Jason abandons his wife, Medea, in order to marry the beautiful young daughter of Creon, King of Corinth, and fuels Medea to a revenge.\"),\n",
        "                        (\"The Women of Corinth are a commentator to the action. They fully sympathizes with Medea's plight, excepting her decision to murder her own children.\"),\n",
        "                        (\"Creon is the King of Corinth, banishes Medea from the city\"),\n",
        "                        (\"The Nurse is the caretaker of the house and of the children and serves as Medea's confidant.\")],\n",
        "                    \"scene\": {\"sceneName\": \"Medea's Revenge\", \"sceneLocation\": \"Outside the Royal Palace.\", \"plotElement\": \"Resolution\", \"beat\": \" The palace opens its doors, revealing Medea and the two dead children seated in a chariot drawn by dragons. Jason curses himself for having wed Medea and mourns his tragic losses . Medea denies Jason the right to a proper burial of his children . Medea flees to Athens and divines an unheroic death for Jason .\"},\n",
        "                    \"dialogues\": \"WOMEN OF CORINTH Throw wide the doors and see thy children 's murdered corpses . JASON Haste , ye slaves , loose the bolts , undo the fastenings , that I may see the sight of twofold woe , my murdered sons and her , whose blood in vengeance I will shed . ( MEDEA appears above the house , on a chariot drawn by dragons ; the children 's corpses are beside her .) MEDEA Why shake those doors and attempt to loose their bolts , in quest of the dead and me their murderess ? From such toil desist . If thou wouldst aught with me , say on , if so thou wilt ; but never shalt thou lay hand on me , so swift the steeds the sun , my father 's sire , to me doth give to save me from the hand of my foes . JASON Accursed woman ! by gods , by me and all mankind abhorred as never woman was , who hadst the heart to stab thy babes , thou their mother , leaving me undone and childless ; this hast thou done and still dost gaze upon the sun and earth after this deed most impious . Curses on thee ! now perceive what then I missed in the day I brought thee , fraught with doom , from thy home in a barbarian land to dwell in Hellas , traitress to thy sire and to the land that nurtured thee . Perish , vile sorceress , murderess of thy babes ! Whilst I must mourn my luckless fate , for I shall ne 'er enjoy my new - found bride , nor shall I have the children , whom I bred and reared , alive to say the last farewell to me ; nay , I have lost them . MEDEA To this thy speech I could have made a long reply , but Father Zeus knows well all I have done for thee , and the treatment thou hast given me . Yet thou wert not ordained to scorn my love and lead a life of joy in mockery of me , nor was thy royal bride nor Creon , who gave thee a second wife , to thrust me from this land and rue it not . Wherefore , if thou wilt , call me e'en a lioness , and Scylla , whose home is in the Tyrrhene land ; for I in turn have wrung thy heart , as well I might . JASON Thou , too , art grieved thyself , and sharest in my sorrow . MEDEA Be well assured I am ; but it relieves my pain to know thou canst not mock at me . JASON O my children , how vile a mother ye have found ! MEDEA My sons , your father 's feeble lust has been your ruin ! JASON 'Twas not my hand , at any rate , that slew them . MEDEA No , but thy foul treatment of me , and thy new marriage . JASON Didst think that marriage cause enough to murder them ? MEDEA Dost think a woman counts this a trifling injury ? JASON So she be self - restrained ; but in thy eyes all is evil . MEDEA Thy sons are dead and gone . That will stab thy heart .\"\n",
        "                }\n",
        "            ]\n",
        "        }\n",
        "    )"
      ]
    },
    {
      "cell_type": "code",
      "execution_count": 101,
      "metadata": {
        "id": "MO7xRBiK6Tqu"
      },
      "outputs": [],
      "source": [
        "# Patch the OpenAI client to enable the response_model functionality\n",
        "client = instructor.from_openai(OpenAI(api_key=\"API_KEY\"))\n",
        "\n",
        "def generate_scene_dialogs(count: int) -> Iterable[sceneDialogue]:\n",
        "    return client.chat.completions.create(\n",
        "        model=\"gpt-4o\",\n",
        "        response_model=Iterable[sceneDialogue],\n",
        "        messages=[\n",
        "            {\"role\": \"user\", \"content\": f\"You are responsible for generating synthetic data for a script-writing task. Be creative in your approach and add diversity to the examples by considering \\\n",
        "                                        various genres, different audience types, settings at different locations around the world and people from all walks of life. \\\n",
        "                                        Generate `{count}` synthetic examples\"},\n",
        "        ],\n",
        "    )\n",
        "\n"
      ]
    },
    {
      "cell_type": "code",
      "execution_count": 106,
      "metadata": {},
      "outputs": [
        {
          "name": "stdout",
          "output_type": "stream",
          "text": [
            "{\"question\": \"You are a scriptwriter assistant with a flair for creativity and imagination. You have to generate dialogues for a scene based on the log line and characters of the story.\", \"context\": \"In a dystopian future, a group of rebels fights against a tyrannical regime that controls the last remaining city on Earth.Zephyr - The charismatic leader of the rebel group, determined to overthrow the regime. Nia - A tech genius and the strategic brain behind the rebel operations. Orion - A former soldier who now fights for the rebellion. The Overseer - The ruthless leader of the regime. Haven - A double agent whose true loyalties are unknown. Scene Name: The Secret Meeting, Scene Location: Abandoned Warehouse, Plot Element: Inciting Incident, Beat: The rebels gather to plan their next move against the regime. Haven arrives with crucial information. \", \"answer\": \"ZEPHYR We can't keep hiding forever. We need to strike now, while they're vulnerable. NIA I've hacked into their mainframe. They won't see us coming. ORION Just give the word, and I'll lead the charge. HAVEN Wait. There's something you need to know. THE OVERSEER (over a hidden transmitter) Your plans are futile. We've known your every move. ZEPHYR (looking around) We've been betrayed. But by whom? HAVEN I... I'm sorry. I had no choice. NIA (to Haven) You sold us out? Why? HAVEN (tears streaming down) They have my family. ZEPHYR (determined) Then we'll save them. But you have to trust us now.\"}\n",
            "{\"question\": \"You are a scriptwriter assistant with a flair for creativity and imagination. You have to generate dialogues for a scene based on the log line and characters of the story.\", \"context\": \"A romantic comedy about two chefs from rival restaurants falling in love despite their competitive spirits.Emma - A passionate and talented chef at 'Bella Cucina'. Liam - The head chef at 'The Culinary Corner', renowned for his innovative dishes. Sophia - Emma's best friend and sous-chef, always supportive. Marcus - Liam's best friend and restaurant manager. Helen - The wise and witty owner of 'Bella Cucina'. Henry - The eccentric food critic who ignites the rivalry. Scene Name: The Cooking Contest, Scene Location: Central Plaza, Plot Element: Climax, Beat: Emma and Liam face off in a high-stakes cooking competition. As tensions rise, they realize their feelings for each other. \", \"answer\": \"HENRY Welcome to the Annual Central Plaza Cooking Contest! Our contestants today are Emma from 'Bella Cucina' and Liam from 'The Culinary Corner'. Let the best chef win! EMMA (nervously) I hope I don't burn the risotto. SOPHIA You've got this. Just focus. LIAM (smirking) Ready to lose, Emma? EMMA (smiling) Only in your dreams, Liam. MARCUS (to Liam) You can't win her over by teasing her. LIAM (softly) Maybe I don't want to win. Maybe I just want her. HENRY Time's up! Present your dishes to the judges. HELEN (tasting Emma's dish) Delicious, as always. You've outdone yourself. HENRY (tasting Liam's dish) Innovative and bold. A close call indeed. LIAM (to Emma) No matter who wins, dinner tonight? EMMA (blushing) Only if you promise not to tease.\"}\n",
            "{\"question\": \"You are a scriptwriter assistant with a flair for creativity and imagination. You have to generate dialogues for a scene based on the log line and characters of the story.\", \"context\": \"An adventurous tale of a young archaeologist discovering a hidden civilization deep within the Amazon rainforest.Alex - The ambitious young archaeologist leading the expedition. Raul - A local guide with extensive knowledge of the rainforest. Elena - A linguist and expert in ancient cultures. Marco - A rival archaeologist with a dubious reputation. The Elders - Leaders of the hidden civilization. Kamali - A warrior of the hidden civilization who becomes Alex's ally. Scene Name: The Ancient Temple, Scene Location: Hidden Civilization in the Amazon, Plot Element: Rising Action, Beat: Alex and the team discover an ancient temple. They must decipher its secrets to gain the trust of the hidden civilization. \", \"answer\": \"ALEX This is it. The ancient temple I've been searching for. RAUL (excited) The legends were true! We're the first outsiders to set foot here. MARCO (sneering) Don't get too comfortable. I'm still ahead in this race. ELENA (focused) These inscriptions... they're a map. We need to follow them. KAMALI (appearing suddenly) Outsiders, you have trespassed. Why are you here? ALEX We're here to learn and protect your history. Please, we mean no harm. KAMALI (skeptical) Prove your worth. Decipher the temple's secrets and earn our trust. ELENA (deciphering) This symbol means 'knowledge'. We need to place the artifacts in these slots. MARCO (trying to cheat) I'll just... ALEX (stopping him) No shortcuts, Marco. We do this right. KAMALI (respectfully) You have done well. The Elders will see you now.\"}\n",
            "{\"question\": \"You are a scriptwriter assistant with a flair for creativity and imagination. You have to generate dialogues for a scene based on the log line and characters of the story.\", \"context\": \"A heartwarming drama about a small-town teacher who makes a big impact on her students' lives.Ms. Thompson - The dedicated and compassionate teacher. Jake - A troubled student with a hidden talent for art. Mia - Jake's best friend who believes in him. Principal Roberts - The strict principal who has lost hope in the students. Mrs. Jenkins - A supportive colleague and fellow teacher. Jake's Mom - A hardworking single mother doing her best. Scene Name: Art Exhibition, Scene Location: School Gymnasium, Plot Element: Resolution, Beat: Ms. Thompson organizes an art exhibition to showcase her students' talents. Jake's work steals the show, changing the principal's perspective. \", \"answer\": \"MS. THOMPSON (to students) Your art deserves to be seen. Let's make this exhibition unforgettable. JAKE (nervously) What if they don't like my paintings? MIA They'll love them, Jake. Believe in yourself. PRINCIPAL ROBERTS (skeptical) This better be worth the effort, Ms. Thompson. MS. THOMPSON Trust me, sir. You'll see. MRS. JENKINS (encouraging) You've done a wonderful job, Ms. Thompson. The kids are excited. JAKE'S MOM (proudly) Look at you, Jake. You did it. PRINCIPAL ROBERTS (amazed) This painting... it's incredible. Jake, you have a real gift. JAKE (smiling) Thank you, sir. MS. THOMPSON (whispering to Jake) I knew you could do it.\"}\n",
            "{\"question\": \"You are a scriptwriter assistant with a flair for creativity and imagination. You have to generate dialogues for a scene based on the log line and characters of the story.\", \"context\": \"A science fiction epic about humans' first contact with an advanced alien race that offers unexpected challenges and opportunities.Captain Ross - The level-headed leader of the human expedition. Dr. Vega - A brilliant scientist intrigued by the alien technology. Commander Jax - The security chief wary of the alien intentions. N'Var - An alien ambassador trying to bridge the gap between species. Lt. Harper - A communications officer struggling with interpreting the alien language. The Council - A group of alien leaders overseeing the first contact. Scene Name: First Contact, Scene Location: Alien Mothership, Plot Element: Turning Point, Beat: The human crew meets the alien council. Captain Ross and N'Var negotiate terms of a potential alliance while facing unforeseen challenges. \", \"answer\": \"CAPTAIN ROSS We come in peace, seeking knowledge and cooperation. N'VAR Welcome, Captain Ross. Your intentions will be tested. DR. VEGA (examining) Their technology is centuries ahead of ours. Imagine what we could learn. COMMANDER JAX (whispering) Stay alert. We can't trust them entirely. LT. HARPER (struggling) Their language is... evolving. It's fascinating but complex. THE COUNCIL (collectively) Humans, prove your worthiness. Establish a bond of trust. CAPTAIN ROSS We are ready to work together for mutual benefit. Let's start with open communication. N'VAR (smiling) Very well, Captain. We'll begin with a knowledge exchange. DR. VEGA (excited) This is the dawn of a new era. COMMANDER JAX (cautious) And we must tread carefully.\"}\n",
            "{\"question\": \"You are a scriptwriter assistant with a flair for creativity and imagination. You have to generate dialogues for a scene based on the log line and characters of the story.\", \"context\": \"A gripping thriller depicting the life of a secret agent who must uncover a mole within his organization before a terrorist attack in New York City.John, the diligent and determined secret agent. Sarah, John's tech-savvy and loyal partner. The Director, the head of the agency plagued by the mole. Agent Smith, the suspected mole causing internal turmoil. Scene Name: Unmasking the Traitor, Scene Location: Agency headquarters in Manhattan, Plot Element: Climax, Beat: John confronts Agent Smith in a high-stakes situation, revealing the truth and preventing the imminent terrorist attack. \", \"answer\": \"JOHN: It's over, Smith. We know you're the mole.\\\\nSMITH: You think you can stop this? You're too late.\\\\nSARAH (over earpiece): John, signal's locked. We have the location of the bomb.\\\\nJOHN: It's not too late. We're shutting this down, right now. (cuffs Smith)\\\\nDIRECTOR: Good work, John. Now, let's save this city.\"}\n",
            "{\"question\": \"You are a scriptwriter assistant with a flair for creativity and imagination. You have to generate dialogues for a scene based on the log line and characters of the story.\", \"context\": \"An inspirational sports drama about a young girl from a small town who dreams of becoming a professional basketball player.Emily, the ambitious and hardworking young girl. Coach Davis, Emily's supportive and stern coach. Tina, Emily's best friend and teammate. Mr. and Mrs. Johnson, Emily's loving yet worried parents. Scene Name: Against All Odds, Scene Location: Championship game arena, Plot Element: Resolution, Beat: Emily's team is losing, but she inspires them with her spirit and leads them to a stunning comeback victory. \", \"answer\": \"EMILY: We can do this! We've worked too hard to let this slip away now!\\\\nCOACH DAVIS: Remember your training. Take it one play at a time.\\\\nTINA: Let's show them what we're made of!\\\\nMR. JOHNSON: That's my girl out there, giving it her all.\\\\nMRS. JOHNSON: She's amazing.\\\\nEMILY: (on the court, after winning) We did it! We really did it!\"}\n",
            "{\"question\": \"You are a scriptwriter assistant with a flair for creativity and imagination. You have to generate dialogues for a scene based on the log line and characters of the story.\", \"context\": \"A heartwarming romantic comedy about two chefs who, despite their initial rivalry, find love through their passion for food in Paris.Sophie, a talented and fiery chef. Marc, the charming yet competitive chef. Clara, Sophie's witty best friend. Henri, the wise and encouraging restaurant owner. Scene Name: A Taste of Love, Scene Location: Charming Parisian bistro, Plot Element: Climax, Beat: Sophie and Marc have a cooking showdown, and through their playful banter and creations, they realize their feelings for each other. \", \"answer\": \"SOPHIE: You're going down, Marc. My souffl\\u00e9 is unbeatable.\\\\nMARC: Oh really? Wait till you taste my cr\\u00e8me br\\u00fbl\\u00e9e.\\\\nCLARA: (to Henri) This is better than a movie.\\\\nHENRI: They just might perfect the recipe for love.\\\\nSOPHIE: (tasting Marc's dish) Okay, I admit, this is...amazing.\\\\nMARC: Guess we make a pretty good team, huh?\\\\nSOPHIE: Maybe we do.\"}\n",
            "{\"question\": \"You are a scriptwriter assistant with a flair for creativity and imagination. You have to generate dialogues for a scene based on the log line and characters of the story.\", \"context\": \"An epic fantasy about a young mage who must unite the fractured kingdoms to defeat a dark sorcerer threatening their world.Liora, the courageous and skilled young mage. King Aric, the reluctant leader of one of the fractured kingdoms. Elara, Liora's wise mentor. Mordred, the dark sorcerer seeking to plunge the world into chaos. Scene Name: United We Stand, Scene Location: The ancient battleground of Eldoria, Plot Element: Resolution, Beat: Liora rallies the kingdoms together and confronts Mordred in a climactic battle, using her powers and newfound alliances to vanquish him. \", \"answer\": \"LIORA: We stand together, or we fall divided.\\\\nARIC: We will fight by your side, Liora. For the fate of our world.\\\\nMORDRED: Fools. You think you can challenge my power?\\\\nELARA: Her power comes from unity, something you'll never understand.\\\\nMORDRED: Then prepare to meet your doom!\\\\nLIORA: (casting a spell) Not today, Mordred. Today, we reclaim our world!\"}\n",
            "{\"question\": \"You are a scriptwriter assistant with a flair for creativity and imagination. You have to generate dialogues for a scene based on the log line and characters of the story.\", \"context\": \"A dramatic tale following the journey of a woman rediscovering her identity after escaping an abusive marriage.Laura, the resilient protagonist finding her strength. Jake, Laura's manipulative and abusive husband. Rachel, Laura's supportive sister. Officer Miller, the understanding police officer who helps Laura. Scene Name: Breaking Free, Scene Location: Quiet suburban home, Plot Element: Climax, Beat: Laura finally confronts Jake and, with Rachel and Officer Miller's help, escapes to start a new life. \", \"answer\": \"LAURA: This ends now, Jake. I'm not afraid of you anymore.\\\\nJAKE: You think you can just leave? You'll never make it without me.\\\\nRACHEL: She's stronger than you know, Jake.\\\\nOFFICER MILLER: Laura, we're here to help you. Just take that first step.\\\\nLAURA: I'm ready. I'm done living in fear.\\\\nJAKE: You'll regret this.\\\\nLAURA: No, Jake. For the first time, I'm certain I won't.\"}\n",
            "{\"question\": \"You are a scriptwriter assistant with a flair for creativity and imagination. You have to generate dialogues for a scene based on the log line and characters of the story.\", \"context\": \"Sci-fi thriller about a hacker group infiltrating a dystopian government's data vault to uncover and expose massive corruption.Raven is the leader of the hacker group, a genius in digital warfare but haunted by past failures. Volt is a reckless but brilliant hacker who specializes in breaching high-security systems. Iris is an ex-government agent, now working with the hackers, bringing insider knowledge to the team. Eclipse is the group's security expert, able to bypass and counteract almost any surveillance system. Scene Name: The Breach, Scene Location: Central Data Vault, Plot Element: Climax, Beat: Raven and Volt manage to infiltrate the vault but are confronted by government agents. Iris uses her knowledge to manipulate internal security, while Eclipse creates distractions to buy them time. \", \"answer\": \"RAVEN We're in. Volt, start the breach sequence. We don't have much time. \\\\nVOLT On it. Keep those agents off me. \\\\nIRIS I\\u2019ll reroute security protocols. Give me one minute. \\\\nECLIPSE Distraction is up. They won't know what hit them. \\\\nGOVERNMENT AGENT (over comms) Intruders identified. Locking down the facility. \\\\nVOLT Lockdown initiated, Raven! We gotta move! \\\\nRAVEN Almost there... And we're through! Downloading the data now. \\\\nECLIPSE Get ready for extraction. This place is about to be swarming with agents. \\\\nIRIS Just one more firewall... Bypassed! We got what we need. Let's go!\"}\n",
            "{\"question\": \"You are a scriptwriter assistant with a flair for creativity and imagination. You have to generate dialogues for a scene based on the log line and characters of the story.\", \"context\": \"A heartwarming family drama revolving around a young girl's dream to become a ballet dancer, despite financial hardships and societal pressure.Emma is the determined young girl with a passion for ballet. Sarah is Emma's single mother, struggling to make ends meet but supportive of her daughter's dreams. Mr. Novak is the strict but kind-hearted ballet instructor who sees potential in Emma. Lisa is Emma's best friend, always encouraging her to follow her dreams. Scene Name: The Big Audition, Scene Location: City Ballet Academy, Plot Element: Resolution, Beat: Emma finally gets her chance to audition for the prestigious ballet academy. With her mother, friend, and instructor watching, Emma gives the performance of her life, despite her fears and insecurities. \", \"answer\": \"MR. NOVAK Remember your training, Emma. You have what it takes. \\\\nEMMA (nervously) I hope so, Mr. Novak. \\\\nLISA You\\u2019ve got this, Emma! Just breathe. \\\\nSARAH No matter what happens, I am so proud of you. \\\\nEMMA Thank you, everyone. Here I go. \\\\nJUDGE (after the performance) Emma, that was truly inspiring. Welcome to the City Ballet Academy. \\\\nEMMA (tears flowing) I did it! Mom, I did it! \\\\nSARAH (hugging Emma) Yes, you did, sweetie. We're so proud of you.\"}\n",
            "{\"question\": \"You are a scriptwriter assistant with a flair for creativity and imagination. You have to generate dialogues for a scene based on the log line and characters of the story.\", \"context\": \"Fantasy adventure where a group of warriors must retrieve an ancient artifact to prevent a dark sorcerer's curse from spreading across the kingdom.Arin is the fearless leader of the warriors, driven by a desire to protect his home. Cedric is a skilled archer and healer, calm under pressure. Lyra is a fierce warrior with unmatched combat skills and a mysterious past. Eldric is a wise old mage who provides guidance and magical support. Scene Name: The Enchanted Forest, Scene Location: Deep within the Forbidden Woods, Plot Element: Rising Action, Beat: The group encounters enchanted creatures guarding the path to the ancient artifact. They must battle their way through while solving riddles posed by the forest spirits. \", \"answer\": \"ARIN Stay alert. The artifact should be close. \\\\nLYRA These enchanted creatures won't let us pass easily. \\\\nCEDRIC I\\u2019ll cover from above. Eldric, any insights? \\\\nELDRIC The forest spirits demand a riddle solved. Listen, and answer wisely. \\\\nFOREST SPIRIT To move ahead, tell me true: What has roots as nobody sees, is taller than trees, up, up it goes, and yet never grows? \\\\nCEDRIC A mountain! It\\u2019s a mountain! \\\\nFOREST SPIRIT Correct. You may pass, but beware. The real challenge lies ahead. \\\\nARIN Move swiftly, everyone. We are close to the artifact.\"}\n",
            "{\"question\": \"You are a scriptwriter assistant with a flair for creativity and imagination. You have to generate dialogues for a scene based on the log line and characters of the story.\", \"context\": \"Romantic comedy set in Paris where a cynical writer and a hopeless romantic photographer cross paths and end up changing each other's perspectives on love.Clara is the romantic photographer who believes in fairy-tale endings. Liam is the cynical writer who thinks love is an illusion. Marie is Clara's witty best friend who often gives her advice on love. Julien is Liam's friend, a pragmatist who secretly hopes Liam will open his heart. Scene Name: A Serendipitous Encounter, Scene Location: A Quaint Parisian Caf\\u00e9, Plot Element: Inciting Incident, Beat: Clara accidentally spills coffee on Liam's laptop, leading to a heated exchange that gradually turns into a flirty banter, marking the beginning of an unexpected relationship. \", \"answer\": \"CLARA Oh my gosh, I am so sorry! Your laptop, is it okay? \\\\nLIAM Brilliant. Just brilliant. My manuscript is ruined. \\\\nCLARA I'll buy you a new one, I promise. Here, let me help. \\\\nLIAM It\\u2019s not about the laptop. It's the principle of being careful. \\\\nCLARA Well, maybe if you weren't so engrossed in your writing, accidents wouldn't happen. \\\\nLIAM (chuckling) Touch\\u00e9. By the way, I'm Liam. \\\\nCLARA Clara. Nice to meet you, despite the circumstances. \\\\nLIAM Maybe this is the universe's way of telling me to take a break. Care for a coffee? \\\\nCLARA (smiling) I'd love that.\"}\n",
            "{\"question\": \"You are a scriptwriter assistant with a flair for creativity and imagination. You have to generate dialogues for a scene based on the log line and characters of the story.\", \"context\": \"Historical drama about a courageous young woman in 19th century India, who disguises herself as a man to fight in the rebellion against British colonial rule.Ananya is the protagonist, fierce and passionate about her country\\u2019s freedom. Rao is Ananya's mentor and a seasoned freedom fighter. Padmini is Ananya's childhood friend who supports her covert mission. Colonel James is the British officer determined to crush the rebellion. Scene Name: The Final Stand, Scene Location: A Rebel Hideout, Plot Element: Resolution, Beat: The rebels prepare for their final assault on the British forces. Ananya leads the charge, risking everything to free her people. \", \"answer\": \"RAO Ananya, this is our last chance. Are you ready? \\\\nANANYA For my country, always. \\\\nPADMINI (whispering) Please, come back safe. We need you. \\\\nANANYA I'll fight with everything I have. \\\\nCOLONEL JAMES (overlooking the battlefield) Crush these rebels. Show them the might of the British Empire. \\\\nANANYA This ends today, for our freedom and our future! \\\\nRAO Fight bravely, everyone! Victory is within our grasp!\"}\n",
            "{\"question\": \"You are a scriptwriter assistant with a flair for creativity and imagination. You have to generate dialogues for a scene based on the log line and characters of the story.\", \"context\": \"Romantic comedy set in Paris. Two strangers, an American tourist and a French local, keep meeting by coincidence and fall in love amid comical misunderstandings and cultural differences.Emily, an American tourist who is exploring Paris. Pierre, a charming French local who enjoys coffee at the same caf\\u00e9 every morning. Celine, the caf\\u00e9 owner who meddles in Emily and Pierre's relationship. Jean, Pierre's best friend who provides comic relief. Scene Name: Spilled Coffee and Sparks, Scene Location: Charming Parisian caf\\u00e9, Plot Element: Meet Cute, Beat: Emily accidentally spills coffee on Pierre, leading to an awkward but funny first meeting. Celine comments on their chemistry while Jean teases Pierre. \", \"answer\": \"EMILY Oh my gosh, I am so sorry! I didn't see you there. PIERRE It's quite alright, mademoiselle. A coffee stain is nothing compared to your smile. CELINE Ah, young love! It begins with a splash. JEAN (laughs) Smooth move, Pierre. Should I get you a bib for future dates?\"}\n",
            "{\"question\": \"You are a scriptwriter assistant with a flair for creativity and imagination. You have to generate dialogues for a scene based on the log line and characters of the story.\", \"context\": \"Sci-fi thriller in a dystopian future. A group of rebels attempts to overthrow the tyrannical government controlling the last remaining city on Earth.Alex, the determined leader of the rebels. Riley, a tech genius and hacker. Morgan, a former government agent who now aids the rebels. The Chancellor, the oppressive ruler of the city. Scene Name: Data Heist, Scene Location: High-security government data center, Plot Element: Climax, Beat: The rebels break into the government's data center to steal crucial information. Tension rises as they narrowly avoid detection. \", \"answer\": \"ALEX Keep an eye on the security feeds, Riley. We can't afford to get caught. RILEY Got it. I'm in their system. We have five minutes before the next patrol. MORGAN Move fast. Every second counts. THE CHANCELLOR (via intercom) You think you can outsmart me, rebels? Think again.\"}\n",
            "{\"question\": \"You are a scriptwriter assistant with a flair for creativity and imagination. You have to generate dialogues for a scene based on the log line and characters of the story.\", \"context\": \"Historical drama set in ancient Egypt. A young pharaoh must navigate palace intrigue and external threats to secure his rule and legacy.Pharaoh Taharqa, the young ruler of Egypt. Neferu, Taharqa's trusted advisor. Amunet, a high priestess with her own agenda. General Hor-em-akhet, the head of the military who is loyal to the Pharaoh. Scene Name: Seeds of Betrayal, Scene Location: The Grand Hall of the Palace, Plot Element: Confrontation, Beat: Pharaoh Taharqa confronts Amunet about her secret dealings with foreign enemies. Neferu and Hor-em-akhet prepare for battle. \", \"answer\": \"PHARAOH TAHARQA You dare plot against your own ruler, Amunet? AMUNET I do what I must for the greater good of Egypt. NEFERU Your actions are treasonous! GENERAL HOR-EM-AKHET My Pharaoh, what are your orders? PHARAOH TAHARQA Prepare the troops. We defend our land at all costs.\"}\n",
            "{\"question\": \"You are a scriptwriter assistant with a flair for creativity and imagination. You have to generate dialogues for a scene based on the log line and characters of the story.\", \"context\": \"Family drama set in a small rural town. A prodigal son returns home to reconcile with his estranged family and face past mistakes.Daniel, the prodigal son who returns after many years. Martha, Daniel's mother who has kept the family together. Samuel, Daniel's younger brother who feels abandoned. Lily, Samuel's wife who tries to mediate peace. Scene Name: Homecoming Dinner, Scene Location: Family farmhouse, Plot Element: Turning Point, Beat: Daniel arrives unannounced, causing tension and mixed emotions. Accusations and heartfelt confessions unfold around the dinner table. \", \"answer\": \"DANIEL I'm home. MARTHA Daniel... after all these years. SAMUEL Why now, Daniel? Why did you leave us? LILY Let's talk this out calmly. There's too much history here. DANIEL I know I made mistakes, but I'm here to make things right.\"}\n",
            "{\"question\": \"You are a scriptwriter assistant with a flair for creativity and imagination. You have to generate dialogues for a scene based on the log line and characters of the story.\", \"context\": \"Fantasy adventure in a mythical kingdom. A young hero sets out on a quest to retrieve a magical artifact that can save her village from a devastating curse.Aria, the brave young hero on a quest. Elden, a wise old wizard who guides Aria. Lyria, a fierce warrior who becomes Aria's ally. The Dark Sorcerer, the main antagonist who cursed the village. Scene Name: The Ultimate Confrontation, Scene Location: The Sorcerer's Lair, Plot Element: Final Battle, Beat: Aria faces the Dark Sorcerer in a final showdown. With the help of Elden and Lyria, she must outwit and defeat him to save her village. \", \"answer\": \"ARIA This ends now, Dark Sorcerer! DARK SORCERER (laughs) Foolish child, you think you can defeat me? ELDEN Believe in yourself, Aria. The power is within you. LYRIA Together, we can bring him down! ARIA For my village, for my people! (they engage in battle) DARK SORCERER You will regret this, hero! ARIA Not today.\"}\n"
          ]
        }
      ],
      "source": [
        "for i in range(1,5):\n",
        "    #Make the OpenAI calls\n",
        "    type3_prompts = []\n",
        "    for dialog in generate_scene_dialogs(5):\n",
        "        type3_prompts.append(dialog)\n",
        "\n",
        "    ## Some post-processing to adapt the examples to the JSONL format - the question prompt changes for each section/type of examples\n",
        "    dataset = []\n",
        "    for example in type3_prompts:\n",
        "       data = {}\n",
        "       data[\"question\"] = \"You are a scriptwriter assistant with a flair for creativity and imagination. You have to generate dialogues for a scene based on the log line and characters of the story.\"\n",
        "       data[\"context\"] = example.logline + \" \".join(example.characters) + \" \" + create_scene_description(example.scene)\n",
        "       data[\"answer\"] = example.dialogues\n",
        "       dataset.append(data)\n",
        "    \n",
        "    #Dump/Save data to file \n",
        "    for item in dataset:\n",
        "        print (json.dumps(item))\n",
        "\n",
        "    # Wait a bit before making the next call to the API\n",
        "    time.sleep(5)"
      ]
    },
    {
      "cell_type": "code",
      "execution_count": null,
      "metadata": {},
      "outputs": [],
      "source": []
    }
  ],
  "metadata": {
    "colab": {
      "provenance": []
    },
    "kernelspec": {
      "display_name": "Python 3",
      "name": "python3"
    },
    "language_info": {
      "codemirror_mode": {
        "name": "ipython",
        "version": 3
      },
      "file_extension": ".py",
      "mimetype": "text/x-python",
      "name": "python",
      "nbconvert_exporter": "python",
      "pygments_lexer": "ipython3",
      "version": "3.10.13"
    }
  },
  "nbformat": 4,
  "nbformat_minor": 0
}
